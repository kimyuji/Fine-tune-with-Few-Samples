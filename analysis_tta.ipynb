{
 "cells": [
  {
   "cell_type": "code",
   "execution_count": 5,
   "id": "76ce1063-e820-4334-b73b-e0881b08d546",
   "metadata": {},
   "outputs": [],
   "source": [
    "import ttach as tta"
   ]
  },
  {
   "cell_type": "code",
   "execution_count": 6,
   "id": "71393251-f0ef-48a9-a859-e2ab486d8fe5",
   "metadata": {},
   "outputs": [],
   "source": [
    "transforms = tta.Compose(\n",
    "    [\n",
    "        tta.HorizontalFlip(),\n",
    "        tta.Rotate90(angles=[0, 180]),\n",
    "        tta.Scale(scales=[1, 2, 4]),\n",
    "        tta.Multiply(factors=[0.9, 1, 1.1]),        \n",
    "    ]\n",
    ")"
   ]
  },
  {
   "cell_type": "code",
   "execution_count": 7,
   "id": "6185d03f-3c22-406d-8f78-626e5e20568f",
   "metadata": {},
   "outputs": [],
   "source": [
    "a = 1"
   ]
  },
  {
   "cell_type": "code",
   "execution_count": 8,
   "id": "87523886-21ce-4b39-8650-cd484a65e796",
   "metadata": {},
   "outputs": [
    {
     "data": {
      "text/plain": [
       "[1]"
      ]
     },
     "execution_count": 8,
     "metadata": {},
     "output_type": "execute_result"
    }
   ],
   "source": [
    "[a]"
   ]
  },
  {
   "cell_type": "code",
   "execution_count": null,
   "id": "af8fa4cc-faeb-4885-8a55-68e29900a2fe",
   "metadata": {},
   "outputs": [],
   "source": []
  }
 ],
 "metadata": {
  "kernelspec": {
   "display_name": "Python 3 (ipykernel)",
   "language": "python",
   "name": "python3"
  },
  "language_info": {
   "codemirror_mode": {
    "name": "ipython",
    "version": 3
   },
   "file_extension": ".py",
   "mimetype": "text/x-python",
   "name": "python",
   "nbconvert_exporter": "python",
   "pygments_lexer": "ipython3",
   "version": "3.9.12"
  }
 },
 "nbformat": 4,
 "nbformat_minor": 5
}
