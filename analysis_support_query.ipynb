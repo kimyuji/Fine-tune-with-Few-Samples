{
 "cells": [
  {
   "cell_type": "code",
   "execution_count": 105,
   "id": "70bc6ab1-abfb-434c-aa92-aa6133d60ad6",
   "metadata": {},
   "outputs": [],
   "source": [
    "import PIL\n",
    "import torchvision.transforms as transforms\n",
    "import cv2\n",
    "import math\n",
    "import numpy as np\n",
    "from sklearn.metrics.pairwise import cosine_similarity\n",
    "from sklearn.metrics.pairwise import euclidean_distances\n",
    "from sklearn.metrics.pairwise import cosine_distances\n",
    "\n",
    "import pandas as pd\n",
    "import numpy as np\n",
    "import matplotlib.pyplot as plt; import matplotlib.pylab as plt\n",
    "import seaborn as sns\n",
    "import pickle\n",
    "import matplotlib.font_manager as fm\n",
    "import matplotlib as mpl\n",
    "import seaborn as sns; sns.set()\n",
    "import itertools\n",
    "from torchvision.models import resnet152\n",
    "import torch\n",
    "datas = ['mini_test', 'crop','euro', 'isic', 'chest']\n",
    "plt.rcParams[\"figure.figsize\"] = (14,4)\n",
    "plt.rcParams['lines.linewidth'] = 3\n",
    "plt.rcParams['font.size'] = 15"
   ]
  },
  {
   "cell_type": "code",
   "execution_count": null,
   "id": "4e53b999-5045-44fd-a7ea-d09082467d37",
   "metadata": {},
   "outputs": [],
   "source": [
    "for idx in range(5):\n",
    "    plt.imshow(x_support[idx].cpu().permute(1, 2, 0))\n",
    "    plt.show()"
   ]
  },
  {
   "cell_type": "markdown",
   "id": "72adc046-5109-425a-954f-5638884ecd9c",
   "metadata": {},
   "source": [
    "## clustering measure between support samples"
   ]
  },
  {
   "cell_type": "code",
   "execution_count": 73,
   "id": "b6ba91e2-4ebe-42e6-bd35-cf5ec1c6a6fd",
   "metadata": {},
   "outputs": [
    {
     "data": {
      "text/html": [
       "<div>\n",
       "<style scoped>\n",
       "    .dataframe tbody tr th:only-of-type {\n",
       "        vertical-align: middle;\n",
       "    }\n",
       "\n",
       "    .dataframe tbody tr th {\n",
       "        vertical-align: top;\n",
       "    }\n",
       "\n",
       "    .dataframe thead th {\n",
       "        text-align: right;\n",
       "    }\n",
       "</style>\n",
       "<table border=\"1\" class=\"dataframe\">\n",
       "  <thead>\n",
       "    <tr style=\"text-align: right;\">\n",
       "      <th></th>\n",
       "      <th>mini_test</th>\n",
       "      <th>crop</th>\n",
       "      <th>euro</th>\n",
       "      <th>isic</th>\n",
       "      <th>chest</th>\n",
       "    </tr>\n",
       "  </thead>\n",
       "  <tbody>\n",
       "    <tr>\n",
       "      <th>0</th>\n",
       "      <td>0.0</td>\n",
       "      <td>0.0</td>\n",
       "      <td>0.0</td>\n",
       "      <td>0.0</td>\n",
       "      <td>0.0</td>\n",
       "    </tr>\n",
       "    <tr>\n",
       "      <th>1</th>\n",
       "      <td>0.0</td>\n",
       "      <td>0.0</td>\n",
       "      <td>0.0</td>\n",
       "      <td>0.0</td>\n",
       "      <td>0.0</td>\n",
       "    </tr>\n",
       "    <tr>\n",
       "      <th>2</th>\n",
       "      <td>0.0</td>\n",
       "      <td>0.0</td>\n",
       "      <td>0.0</td>\n",
       "      <td>0.0</td>\n",
       "      <td>0.0</td>\n",
       "    </tr>\n",
       "    <tr>\n",
       "      <th>3</th>\n",
       "      <td>0.0</td>\n",
       "      <td>0.0</td>\n",
       "      <td>0.0</td>\n",
       "      <td>0.0</td>\n",
       "      <td>0.0</td>\n",
       "    </tr>\n",
       "    <tr>\n",
       "      <th>4</th>\n",
       "      <td>0.0</td>\n",
       "      <td>0.0</td>\n",
       "      <td>0.0</td>\n",
       "      <td>0.0</td>\n",
       "      <td>0.0</td>\n",
       "    </tr>\n",
       "    <tr>\n",
       "      <th>5</th>\n",
       "      <td>0.0</td>\n",
       "      <td>0.0</td>\n",
       "      <td>0.0</td>\n",
       "      <td>0.0</td>\n",
       "      <td>0.0</td>\n",
       "    </tr>\n",
       "    <tr>\n",
       "      <th>6</th>\n",
       "      <td>0.0</td>\n",
       "      <td>0.0</td>\n",
       "      <td>0.0</td>\n",
       "      <td>0.0</td>\n",
       "      <td>0.0</td>\n",
       "    </tr>\n",
       "    <tr>\n",
       "      <th>7</th>\n",
       "      <td>0.0</td>\n",
       "      <td>0.0</td>\n",
       "      <td>0.0</td>\n",
       "      <td>0.0</td>\n",
       "      <td>0.0</td>\n",
       "    </tr>\n",
       "    <tr>\n",
       "      <th>8</th>\n",
       "      <td>0.0</td>\n",
       "      <td>0.0</td>\n",
       "      <td>0.0</td>\n",
       "      <td>0.0</td>\n",
       "      <td>0.0</td>\n",
       "    </tr>\n",
       "    <tr>\n",
       "      <th>9</th>\n",
       "      <td>0.0</td>\n",
       "      <td>0.0</td>\n",
       "      <td>0.0</td>\n",
       "      <td>0.0</td>\n",
       "      <td>0.0</td>\n",
       "    </tr>\n",
       "  </tbody>\n",
       "</table>\n",
       "</div>"
      ],
      "text/plain": [
       "  mini_test crop euro isic chest\n",
       "0       0.0  0.0  0.0  0.0   0.0\n",
       "1       0.0  0.0  0.0  0.0   0.0\n",
       "2       0.0  0.0  0.0  0.0   0.0\n",
       "3       0.0  0.0  0.0  0.0   0.0\n",
       "4       0.0  0.0  0.0  0.0   0.0\n",
       "5       0.0  0.0  0.0  0.0   0.0\n",
       "6       0.0  0.0  0.0  0.0   0.0\n",
       "7       0.0  0.0  0.0  0.0   0.0\n",
       "8       0.0  0.0  0.0  0.0   0.0\n",
       "9       0.0  0.0  0.0  0.0   0.0"
      ]
     },
     "execution_count": 73,
     "metadata": {},
     "output_type": "execute_result"
    }
   ],
   "source": [
    "# 1 shot -> 당연히 0이 나옴...\n",
    "C = 5\n",
    "N = 1\n",
    "df = pd.DataFrame(None, columns = datas, index = [i for i in range(10)])\n",
    "for data in datas:\n",
    "    path = './logs/baseline/output/torch_resnet18_simclr_LS_default/{}/05way_001shot_head_default/feature/{}_support.npy'\n",
    "    for i in range(10):\n",
    "        denom = [] # 분모\n",
    "        numer = [] # 분자\n",
    "        support = np.load(path.format(data, i))\n",
    "        mu = support.mean(axis=0).mean(axis=0)\n",
    "        mu_i_arr = support.mean(axis=1)\n",
    "        for cls in range(C):  \n",
    "            index = [N*i + cls for i in range(N)]\n",
    "            in_class = support[index]\n",
    "            mu_i = np.mean(in_class, axis = 0)\n",
    "            denom.append(np.linalg.norm(mu-mu_i) ** 2)\n",
    "            for sample_idx in range(N):\n",
    "                sample = in_class[sample_idx]\n",
    "                numer.append(np.linalg.norm(sample-mu_i) ** 2)\n",
    "        #print(\"episode {}\".format(i))\n",
    "        cluster_measure = C * sum(numer) / (N * sum(denom))\n",
    "        #print(\"cluster measure : {:.4f}\".format(cluster_measure))\n",
    "        df.loc[i, data] = cluster_measure\n",
    "df"
   ]
  },
  {
   "cell_type": "code",
   "execution_count": 106,
   "id": "3a8d549c-ce5d-4f79-8038-a7dcc55bbc93",
   "metadata": {},
   "outputs": [
    {
     "data": {
      "text/html": [
       "<div>\n",
       "<style scoped>\n",
       "    .dataframe tbody tr th:only-of-type {\n",
       "        vertical-align: middle;\n",
       "    }\n",
       "\n",
       "    .dataframe tbody tr th {\n",
       "        vertical-align: top;\n",
       "    }\n",
       "\n",
       "    .dataframe thead th {\n",
       "        text-align: right;\n",
       "    }\n",
       "</style>\n",
       "<table border=\"1\" class=\"dataframe\">\n",
       "  <thead>\n",
       "    <tr style=\"text-align: right;\">\n",
       "      <th></th>\n",
       "      <th>mini_test</th>\n",
       "      <th>crop</th>\n",
       "      <th>euro</th>\n",
       "      <th>isic</th>\n",
       "      <th>chest</th>\n",
       "    </tr>\n",
       "  </thead>\n",
       "  <tbody>\n",
       "    <tr>\n",
       "      <th>support_0</th>\n",
       "      <td>50.720161</td>\n",
       "      <td>34.236298</td>\n",
       "      <td>33.489166</td>\n",
       "      <td>22.829445</td>\n",
       "      <td>28.898595</td>\n",
       "    </tr>\n",
       "    <tr>\n",
       "      <th>support_1</th>\n",
       "      <td>38.625194</td>\n",
       "      <td>29.758449</td>\n",
       "      <td>32.416482</td>\n",
       "      <td>30.304404</td>\n",
       "      <td>33.631042</td>\n",
       "    </tr>\n",
       "    <tr>\n",
       "      <th>support_2</th>\n",
       "      <td>51.658319</td>\n",
       "      <td>30.760557</td>\n",
       "      <td>35.999479</td>\n",
       "      <td>25.423304</td>\n",
       "      <td>24.593645</td>\n",
       "    </tr>\n",
       "    <tr>\n",
       "      <th>support_3</th>\n",
       "      <td>36.109914</td>\n",
       "      <td>25.572603</td>\n",
       "      <td>31.922523</td>\n",
       "      <td>26.561776</td>\n",
       "      <td>20.170266</td>\n",
       "    </tr>\n",
       "    <tr>\n",
       "      <th>support_4</th>\n",
       "      <td>44.143757</td>\n",
       "      <td>30.058215</td>\n",
       "      <td>29.906265</td>\n",
       "      <td>24.265734</td>\n",
       "      <td>22.937267</td>\n",
       "    </tr>\n",
       "    <tr>\n",
       "      <th>support_5</th>\n",
       "      <td>48.972895</td>\n",
       "      <td>25.202279</td>\n",
       "      <td>28.805999</td>\n",
       "      <td>31.457153</td>\n",
       "      <td>23.681867</td>\n",
       "    </tr>\n",
       "    <tr>\n",
       "      <th>support_6</th>\n",
       "      <td>49.444114</td>\n",
       "      <td>28.728323</td>\n",
       "      <td>26.854872</td>\n",
       "      <td>28.043362</td>\n",
       "      <td>22.124514</td>\n",
       "    </tr>\n",
       "    <tr>\n",
       "      <th>support_7</th>\n",
       "      <td>50.452999</td>\n",
       "      <td>28.188479</td>\n",
       "      <td>32.68619</td>\n",
       "      <td>30.973114</td>\n",
       "      <td>27.22767</td>\n",
       "    </tr>\n",
       "    <tr>\n",
       "      <th>support_8</th>\n",
       "      <td>41.317279</td>\n",
       "      <td>27.841243</td>\n",
       "      <td>34.776592</td>\n",
       "      <td>29.878736</td>\n",
       "      <td>22.768228</td>\n",
       "    </tr>\n",
       "    <tr>\n",
       "      <th>support_9</th>\n",
       "      <td>40.360792</td>\n",
       "      <td>31.719244</td>\n",
       "      <td>33.107412</td>\n",
       "      <td>29.925272</td>\n",
       "      <td>23.344655</td>\n",
       "    </tr>\n",
       "  </tbody>\n",
       "</table>\n",
       "</div>"
      ],
      "text/plain": [
       "           mini_test       crop       euro       isic      chest\n",
       "support_0  50.720161  34.236298  33.489166  22.829445  28.898595\n",
       "support_1  38.625194  29.758449  32.416482  30.304404  33.631042\n",
       "support_2  51.658319  30.760557  35.999479  25.423304  24.593645\n",
       "support_3  36.109914  25.572603  31.922523  26.561776  20.170266\n",
       "support_4  44.143757  30.058215  29.906265  24.265734  22.937267\n",
       "support_5  48.972895  25.202279  28.805999  31.457153  23.681867\n",
       "support_6  49.444114  28.728323  26.854872  28.043362  22.124514\n",
       "support_7  50.452999  28.188479   32.68619  30.973114   27.22767\n",
       "support_8  41.317279  27.841243  34.776592  29.878736  22.768228\n",
       "support_9  40.360792  31.719244  33.107412  29.925272  23.344655"
      ]
     },
     "execution_count": 106,
     "metadata": {},
     "output_type": "execute_result"
    }
   ],
   "source": [
    "# 5 shot\n",
    "C = 5\n",
    "N = 5\n",
    "df = pd.DataFrame(None, columns = datas, index = [i for i in range(10)])\n",
    "for data in datas:\n",
    "    path = './logs/baseline/output/torch_resnet18_simclr_LS_default/{}/05way_005shot_head_default/feature/{}_support.npy'\n",
    "    for i in range(10):\n",
    "        denom = [] # 분모\n",
    "        numer = [] # 분자\n",
    "        support = np.load(path.format(data, i))\n",
    "        mu = support.mean(axis=0)\n",
    "        mu_i_arr = support.mean(axis=1)\n",
    "        for cls in range(C):\n",
    "            index = [N*i + cls for i in range(N)]\n",
    "            in_class = support[index]\n",
    "            mu_i = np.mean(in_class, axis = 0)\n",
    "            denom.append(np.linalg.norm(mu-mu_i) ** 2)\n",
    "            for sample_idx in range(N):\n",
    "                sample = in_class[sample_idx]\n",
    "                numer.append(np.linalg.norm(sample-mu_i) ** 2)\n",
    "        #print(\"episode {}\".format(i))\n",
    "        cluster_measure = C * sum(numer) / (N * sum(denom))\n",
    "        #print(\"cluster measure : {:.4f}\".format(cluster_measure))\n",
    "        df.loc[i, data] = cluster_measure\n",
    "df.index = [\"support_{}\".format(i) for i in range(10)]\n",
    "df"
   ]
  },
  {
   "cell_type": "markdown",
   "id": "49f36445-5416-4d35-8695-af5bba4c4799",
   "metadata": {
    "tags": []
   },
   "source": [
    "### performance와 비교"
   ]
  },
  {
   "cell_type": "code",
   "execution_count": 109,
   "id": "6ceff53f-6aed-44e5-82ec-9a36aba6f6c1",
   "metadata": {},
   "outputs": [
    {
     "data": {
      "image/png": "[encoded data removed]",
      "text/plain": [
       "<Figure size 432x432 with 1 Axes>"
      ]
     },
     "metadata": {},
     "output_type": "display_data"
    },
    {
     "data": {
      "image/png": "[encoded data removed]",
      "text/plain": [
       "<Figure size 432x432 with 1 Axes>"
      ]
     },
     "metadata": {},
     "output_type": "display_data"
    },
    {
     "data": {
      "image/png": "[encoded data removed]",
      "text/plain": [
       "<Figure size 432x432 with 1 Axes>"
      ]
     },
     "metadata": {},
     "output_type": "display_data"
    },
    {
     "data": {
      "image/png": "[encoded data removed]",
      "text/plain": [
       "<Figure size 432x432 with 1 Axes>"
      ]
     },
     "metadata": {},
     "output_type": "display_data"
    },
    {
     "data": {
      "image/png": "[encoded data removed]",
      "text/plain": [
       "<Figure size 432x432 with 1 Axes>"
      ]
     },
     "metadata": {},
     "output_type": "display_data"
    },
    {
     "data": {
      "text/html": [
       "<div>\n",
       "<style scoped>\n",
       "    .dataframe tbody tr th:only-of-type {\n",
       "        vertical-align: middle;\n",
       "    }\n",
       "\n",
       "    .dataframe tbody tr th {\n",
       "        vertical-align: top;\n",
       "    }\n",
       "\n",
       "    .dataframe thead th {\n",
       "        text-align: right;\n",
       "    }\n",
       "</style>\n",
       "<table border=\"1\" class=\"dataframe\">\n",
       "  <thead>\n",
       "    <tr style=\"text-align: right;\">\n",
       "      <th></th>\n",
       "      <th>mini_test</th>\n",
       "      <th>crop</th>\n",
       "      <th>euro</th>\n",
       "      <th>isic</th>\n",
       "      <th>chest</th>\n",
       "    </tr>\n",
       "  </thead>\n",
       "  <tbody>\n",
       "    <tr>\n",
       "      <th>support_0</th>\n",
       "      <td>50.720161</td>\n",
       "      <td>34.236298</td>\n",
       "      <td>33.489166</td>\n",
       "      <td>22.829445</td>\n",
       "      <td>28.898595</td>\n",
       "    </tr>\n",
       "    <tr>\n",
       "      <th>support_1</th>\n",
       "      <td>38.625194</td>\n",
       "      <td>29.758449</td>\n",
       "      <td>32.416482</td>\n",
       "      <td>30.304404</td>\n",
       "      <td>33.631042</td>\n",
       "    </tr>\n",
       "    <tr>\n",
       "      <th>support_2</th>\n",
       "      <td>51.658319</td>\n",
       "      <td>30.760557</td>\n",
       "      <td>35.999479</td>\n",
       "      <td>25.423304</td>\n",
       "      <td>24.593645</td>\n",
       "    </tr>\n",
       "    <tr>\n",
       "      <th>support_3</th>\n",
       "      <td>36.109914</td>\n",
       "      <td>25.572603</td>\n",
       "      <td>31.922523</td>\n",
       "      <td>26.561776</td>\n",
       "      <td>20.170266</td>\n",
       "    </tr>\n",
       "    <tr>\n",
       "      <th>support_4</th>\n",
       "      <td>44.143757</td>\n",
       "      <td>30.058215</td>\n",
       "      <td>29.906265</td>\n",
       "      <td>24.265734</td>\n",
       "      <td>22.937267</td>\n",
       "    </tr>\n",
       "    <tr>\n",
       "      <th>support_5</th>\n",
       "      <td>48.972895</td>\n",
       "      <td>25.202279</td>\n",
       "      <td>28.805999</td>\n",
       "      <td>31.457153</td>\n",
       "      <td>23.681867</td>\n",
       "    </tr>\n",
       "    <tr>\n",
       "      <th>support_6</th>\n",
       "      <td>49.444114</td>\n",
       "      <td>28.728323</td>\n",
       "      <td>26.854872</td>\n",
       "      <td>28.043362</td>\n",
       "      <td>22.124514</td>\n",
       "    </tr>\n",
       "    <tr>\n",
       "      <th>support_7</th>\n",
       "      <td>50.452999</td>\n",
       "      <td>28.188479</td>\n",
       "      <td>32.68619</td>\n",
       "      <td>30.973114</td>\n",
       "      <td>27.22767</td>\n",
       "    </tr>\n",
       "    <tr>\n",
       "      <th>support_8</th>\n",
       "      <td>41.317279</td>\n",
       "      <td>27.841243</td>\n",
       "      <td>34.776592</td>\n",
       "      <td>29.878736</td>\n",
       "      <td>22.768228</td>\n",
       "    </tr>\n",
       "    <tr>\n",
       "      <th>support_9</th>\n",
       "      <td>40.360792</td>\n",
       "      <td>31.719244</td>\n",
       "      <td>33.107412</td>\n",
       "      <td>29.925272</td>\n",
       "      <td>23.344655</td>\n",
       "    </tr>\n",
       "  </tbody>\n",
       "</table>\n",
       "</div>"
      ],
      "text/plain": [
       "           mini_test       crop       euro       isic      chest\n",
       "support_0  50.720161  34.236298  33.489166  22.829445  28.898595\n",
       "support_1  38.625194  29.758449  32.416482  30.304404  33.631042\n",
       "support_2  51.658319  30.760557  35.999479  25.423304  24.593645\n",
       "support_3  36.109914  25.572603  31.922523  26.561776  20.170266\n",
       "support_4  44.143757  30.058215  29.906265  24.265734  22.937267\n",
       "support_5  48.972895  25.202279  28.805999  31.457153  23.681867\n",
       "support_6  49.444114  28.728323  26.854872  28.043362  22.124514\n",
       "support_7  50.452999  28.188479   32.68619  30.973114   27.22767\n",
       "support_8  41.317279  27.841243  34.776592  29.878736  22.768228\n",
       "support_9  40.360792  31.719244  33.107412  29.925272  23.344655"
      ]
     },
     "execution_count": 109,
     "metadata": {},
     "output_type": "execute_result"
    }
   ],
   "source": [
    "# 5 shot\n",
    "# 각 support에 대해 query의 평균임\n",
    "plt.rcParams[\"figure.figsize\"] = (6, 6)\n",
    "for data in datas:\n",
    "    acc_path = './logs/baseline/output/torch_resnet18_simclr_LS_default/{}/05way_005shot_head_default/sq_test_acc.csv'\n",
    "    test_acc = pd.read_csv(acc_path.format(data), index_col='Unnamed: 0')\n",
    "    support_acc = test_acc.mean(axis=1)\n",
    "    pair_df = pd.concat([df.loc[:,data].astype(float), support_acc], axis=1)\n",
    "    pair_df.columns = [\"clustering\", \"acc\"]\n",
    "    sns.regplot(x='clustering', y='acc', data=pair_df)\n",
    "    plt.title(data)\n",
    "    plt.show()\n",
    "df"
   ]
  },
  {
   "cell_type": "code",
   "execution_count": null,
   "id": "1df97939-f372-4785-b99e-c71c89705fa9",
   "metadata": {},
   "outputs": [],
   "source": [
    "for data in datas:\n",
    "    acc_path = './logs/baseline/output/torch_resnet18_simclr_LS_default/{}/05way_005shot_head_default/sq_test_acc.csv'\n",
    "    test_acc = pd.read_csv(acc_path.format(data), index_col='Unnamed: 0')\n",
    "    support_acc = test_acc.mean(axis=1)\n",
    "    pair_df = pd.concat([df.loc[:,data].astype(float), support_acc], axis=1)\n",
    "    pair_df.columns = [\"clustering\", \"acc\"]\n",
    "    sns.regplot(x='clustering', y='acc', data=pair_df)\n",
    "    plt.title(data)\n",
    "    plt.show()\n",
    "df"
   ]
  },
  {
   "cell_type": "markdown",
   "id": "82923d2d-4c59-4cf8-8194-3ad0f7ea6d6e",
   "metadata": {
    "jp-MarkdownHeadingCollapsed": true,
    "tags": []
   },
   "source": [
    "#### 동일한 이미지인지 확인"
   ]
  },
  {
   "cell_type": "code",
   "execution_count": 176,
   "id": "21489b98-5e85-4ffb-a55c-5cadef7e0ead",
   "metadata": {},
   "outputs": [
    {
     "ename": "EOFError",
     "evalue": "Ran out of input",
     "output_type": "error",
     "traceback": [
      "\u001b[0;31m---------------------------------------------------------------------------\u001b[0m",
      "\u001b[0;31mEOFError\u001b[0m                                  Traceback (most recent call last)",
      "\u001b[0;32m/tmp/ipykernel_26177/3274958953.py\u001b[0m in \u001b[0;36m<module>\u001b[0;34m\u001b[0m\n\u001b[1;32m     10\u001b[0m                 \u001b[0mx_support_list\u001b[0m\u001b[0;34m.\u001b[0m\u001b[0mappend\u001b[0m\u001b[0;34m(\u001b[0m\u001b[0mimg\u001b[0m\u001b[0;34m)\u001b[0m\u001b[0;34m\u001b[0m\u001b[0;34m\u001b[0m\u001b[0m\n\u001b[1;32m     11\u001b[0m             \u001b[0my_support\u001b[0m \u001b[0;34m=\u001b[0m \u001b[0mpickle\u001b[0m\u001b[0;34m.\u001b[0m\u001b[0mload\u001b[0m\u001b[0;34m(\u001b[0m\u001b[0mf\u001b[0m\u001b[0;34m)\u001b[0m\u001b[0;34m\u001b[0m\u001b[0;34m\u001b[0m\u001b[0m\n\u001b[0;32m---> 12\u001b[0;31m             \u001b[0mx_query\u001b[0m \u001b[0;34m=\u001b[0m \u001b[0mpickle\u001b[0m\u001b[0;34m.\u001b[0m\u001b[0mload\u001b[0m\u001b[0;34m(\u001b[0m\u001b[0mf\u001b[0m\u001b[0;34m)\u001b[0m\u001b[0;34m\u001b[0m\u001b[0;34m\u001b[0m\u001b[0m\n\u001b[0m\u001b[1;32m     13\u001b[0m             \u001b[0;32mfor\u001b[0m \u001b[0mimg\u001b[0m \u001b[0;32min\u001b[0m \u001b[0mx_query\u001b[0m\u001b[0;34m:\u001b[0m\u001b[0;34m\u001b[0m\u001b[0;34m\u001b[0m\u001b[0m\n\u001b[1;32m     14\u001b[0m                 \u001b[0mx_query_list\u001b[0m\u001b[0;34m.\u001b[0m\u001b[0mappend\u001b[0m\u001b[0;34m(\u001b[0m\u001b[0mimg\u001b[0m\u001b[0;34m)\u001b[0m\u001b[0;34m\u001b[0m\u001b[0;34m\u001b[0m\u001b[0m\n",
      "\u001b[0;31mEOFError\u001b[0m: Ran out of input"
     ]
    }
   ],
   "source": [
    "for data in datas : \n",
    "    x_support_list = []\n",
    "    x_query_list = []\n",
    "    for i in range(10):\n",
    "        path = './logs/baseline/output/torch_resnet18_simclr_LS_default/{}/05way_001shot_head_default/saved_0{}.txt'.format('crop', i)\n",
    "        with open(path, 'rb') as f:\n",
    "            test_acc = pickle.load(f)\n",
    "            x_support = pickle.load(f)\n",
    "            for img in x_support:\n",
    "                x_support_list.append(img)\n",
    "            y_support = pickle.load(f)\n",
    "            x_query = pickle.load(f)\n",
    "            for img in x_query:\n",
    "                x_query_list.append(img)\n",
    "    # check\n",
    "    all_imgs_value = []\n",
    "    all_imgs = x_support_list + x_query_list\n",
    "    for img in all_imgs:\n",
    "        all_imgs_value.append(img.sum().cpu().item())\n",
    "    if len(all_imgs_value) == len(set(all_imgs_value)):\n",
    "        print(\"[{}] : all imgs are different!\".format(data))\n",
    "    else:\n",
    "        print(\"[{}] : there are the same img pair\".format(data))"
   ]
  },
  {
   "cell_type": "code",
   "execution_count": 84,
   "id": "59600b92-9e4f-4dc4-902e-ba8c85fe94d2",
   "metadata": {},
   "outputs": [
    {
     "data": {
      "text/plain": [
       "751"
      ]
     },
     "execution_count": 84,
     "metadata": {},
     "output_type": "execute_result"
    }
   ],
   "source": [
    "len(set(all_imgs_value))"
   ]
  },
  {
   "cell_type": "code",
   "execution_count": null,
   "id": "1ac362ce-21ee-4c93-bc29-148cf40e536f",
   "metadata": {},
   "outputs": [],
   "source": [
    "count={}\n",
    "lists = all_imgs_value\n",
    "for i in lists:\n",
    "    try: count[i] += 1\n",
    "    except: count[i]=1\n",
    "print(count)"
   ]
  },
  {
   "cell_type": "code",
   "execution_count": null,
   "id": "9c7df993-20d2-4fcb-850f-8505bf616d69",
   "metadata": {},
   "outputs": [],
   "source": []
  },
  {
   "cell_type": "markdown",
   "id": "8ea7c797-d92f-47c5-8149-8324289bb1da",
   "metadata": {
    "tags": []
   },
   "source": [
    "## Similarity between Support Samples"
   ]
  },
  {
   "cell_type": "code",
   "execution_count": 138,
   "id": "f913035c-30f0-43d0-a8a3-e2787288437a",
   "metadata": {},
   "outputs": [
    {
     "data": {
      "text/plain": [
       "<AxesSubplot:>"
      ]
     },
     "execution_count": 138,
     "metadata": {},
     "output_type": "execute_result"
    },
    {
     "data": {
      "image/png": "[encoded data removed]",
      "text/plain": [
       "<Figure size 504x504 with 2 Axes>"
      ]
     },
     "metadata": {},
     "output_type": "display_data"
    }
   ],
   "source": [
    "path = './logs/baseline/output/torch_resnet18_simclr_LS_default/mini_test/05way_005shot_head_default/feature/0_support.npy'\n",
    "support = np.load(path)\n",
    "fig, ax = plt.subplots( figsize=(7,7) )\n",
    "# naive similarity btw all 25 samples\n",
    "#support_all = support.swapaxes(0,1).reshape(25, 512)\n",
    "sim = cosine_similarity(support, support)\n",
    "sns.heatmap(sim, \n",
    "            cmap = 'RdYlBu_r', \n",
    "            #annot = True,   # 실제 값을 표시한다\n",
    "            #mask=mask,      # 표시하지 않을 마스크 부분을 지정한다\n",
    "            linewidths=.5,  # 경계면 실선으로 구분하기\n",
    "            cbar_kws={\"shrink\": .5},# 컬러바 크기 절반으로 줄이기\n",
    "            vmin = sim.min(), vmax = sim.max()   # 컬러바 범위 -1 ~ 1\n",
    "           )  \n",
    "# in-class similarity"
   ]
  },
  {
   "cell_type": "markdown",
   "id": "e3fd88b3-9552-418d-9996-d2969fe437e5",
   "metadata": {},
   "source": [
    "## Hardness between Support and Query"
   ]
  },
  {
   "cell_type": "code",
   "execution_count": 99,
   "id": "b8350ce8-e009-45d8-8bfa-9ea1574e1a79",
   "metadata": {},
   "outputs": [],
   "source": [
    "def micro_forward(model, x, loss_func=None, loss_coef=None):\n",
    "    yhs = []\n",
    "    model.zero_grad()\n",
    "    for x in torch.split(x, 75): # 크기 최대 75씩 자름, zip : (x,y)가 최대 75개 \n",
    "        yh = model(x)\n",
    "        yhs.append(yh)\n",
    "    yh = torch.cat(yhs)\n",
    "    return yh\n",
    "\n",
    "def get_classifier(yh, y): # support_features, y_support\n",
    "\n",
    "    classifier = torch.zeros((y.unique().size(0), yh.size(1)))\n",
    "    for cls in torch.sort(y.unique())[0]:\n",
    "        classifier[cls] = yh[y == cls].mean(dim=0)\n",
    "    classifier = torch.nn.functional.normalize(classifier)\n",
    "    return classifier\n",
    "\n",
    "def get_hardness(x_support, y_support, x_query, y_query):\n",
    "    with torch.no_grad():\n",
    "        yhs_list = []\n",
    "        # for feature in x_support: # 크기 최대 75씩 자름, zip : (x,y)가 최대 75개 \n",
    "        #     yhs_list.append(torch.from_numpy(feature))\n",
    "        support_features = torch.from_numpy(x_support)\n",
    "\n",
    "        classifier = get_classifier(support_features, y_support)\n",
    "\n",
    "        yhq_list = []\n",
    "        # for feature in x_query: # 크기 최대 75씩 자름, zip : (x,y)가 최대 75개 \n",
    "        #     yhq_list.append(torch.from_numpy(feature))\n",
    "        query_features = torch.from_numpy(x_query) # z(x;theta) : logits of backbone\n",
    "        query_features = torch.nn.functional.normalize(query_features) # l2 norm normalize = w_y\n",
    "\n",
    "\n",
    "        query_features = query_features @ classifier.t() # z_y = w * phi(x)\n",
    "        p = torch.softmax(query_features, dim=1) # p(.|x)\n",
    "        p = p[torch.arange(0, y_query.size(0)), y_query] #p(y|x)\n",
    "        hardness = ((1. - p) / p).log().mean().item()\n",
    "    return hardness "
   ]
  },
  {
   "cell_type": "code",
   "execution_count": 100,
   "id": "5be44a97-de11-4fb7-953c-20155c162867",
   "metadata": {},
   "outputs": [
    {
     "data": {
      "text/html": [
       "<div>\n",
       "<style scoped>\n",
       "    .dataframe tbody tr th:only-of-type {\n",
       "        vertical-align: middle;\n",
       "    }\n",
       "\n",
       "    .dataframe tbody tr th {\n",
       "        vertical-align: top;\n",
       "    }\n",
       "\n",
       "    .dataframe thead th {\n",
       "        text-align: right;\n",
       "    }\n",
       "</style>\n",
       "<table border=\"1\" class=\"dataframe\">\n",
       "  <thead>\n",
       "    <tr style=\"text-align: right;\">\n",
       "      <th></th>\n",
       "      <th>0</th>\n",
       "      <th>1</th>\n",
       "      <th>2</th>\n",
       "      <th>3</th>\n",
       "      <th>4</th>\n",
       "      <th>5</th>\n",
       "      <th>6</th>\n",
       "      <th>7</th>\n",
       "      <th>8</th>\n",
       "      <th>9</th>\n",
       "    </tr>\n",
       "  </thead>\n",
       "  <tbody>\n",
       "    <tr>\n",
       "      <th>0</th>\n",
       "      <td>0.788479</td>\n",
       "      <td>0.797765</td>\n",
       "      <td>0.815623</td>\n",
       "      <td>0.785649</td>\n",
       "      <td>0.794334</td>\n",
       "      <td>0.788435</td>\n",
       "      <td>0.802937</td>\n",
       "      <td>0.816024</td>\n",
       "      <td>0.788092</td>\n",
       "      <td>0.79791</td>\n",
       "    </tr>\n",
       "    <tr>\n",
       "      <th>1</th>\n",
       "      <td>0.803957</td>\n",
       "      <td>0.801349</td>\n",
       "      <td>0.829922</td>\n",
       "      <td>0.80853</td>\n",
       "      <td>0.807979</td>\n",
       "      <td>0.805499</td>\n",
       "      <td>0.81818</td>\n",
       "      <td>0.833552</td>\n",
       "      <td>0.793544</td>\n",
       "      <td>0.824151</td>\n",
       "    </tr>\n",
       "    <tr>\n",
       "      <th>2</th>\n",
       "      <td>0.801019</td>\n",
       "      <td>0.787843</td>\n",
       "      <td>0.823743</td>\n",
       "      <td>0.79381</td>\n",
       "      <td>0.791403</td>\n",
       "      <td>0.795237</td>\n",
       "      <td>0.795814</td>\n",
       "      <td>0.81595</td>\n",
       "      <td>0.798936</td>\n",
       "      <td>0.812265</td>\n",
       "    </tr>\n",
       "    <tr>\n",
       "      <th>3</th>\n",
       "      <td>0.773695</td>\n",
       "      <td>0.776768</td>\n",
       "      <td>0.799167</td>\n",
       "      <td>0.772676</td>\n",
       "      <td>0.787621</td>\n",
       "      <td>0.779968</td>\n",
       "      <td>0.782768</td>\n",
       "      <td>0.795805</td>\n",
       "      <td>0.772078</td>\n",
       "      <td>0.785938</td>\n",
       "    </tr>\n",
       "    <tr>\n",
       "      <th>4</th>\n",
       "      <td>0.806001</td>\n",
       "      <td>0.797687</td>\n",
       "      <td>0.824101</td>\n",
       "      <td>0.806396</td>\n",
       "      <td>0.808636</td>\n",
       "      <td>0.801507</td>\n",
       "      <td>0.814482</td>\n",
       "      <td>0.831304</td>\n",
       "      <td>0.792003</td>\n",
       "      <td>0.815811</td>\n",
       "    </tr>\n",
       "    <tr>\n",
       "      <th>5</th>\n",
       "      <td>0.794118</td>\n",
       "      <td>0.788201</td>\n",
       "      <td>0.808014</td>\n",
       "      <td>0.783556</td>\n",
       "      <td>0.79053</td>\n",
       "      <td>0.795848</td>\n",
       "      <td>0.81128</td>\n",
       "      <td>0.815316</td>\n",
       "      <td>0.780172</td>\n",
       "      <td>0.786456</td>\n",
       "    </tr>\n",
       "    <tr>\n",
       "      <th>6</th>\n",
       "      <td>0.793386</td>\n",
       "      <td>0.777815</td>\n",
       "      <td>0.815518</td>\n",
       "      <td>0.792011</td>\n",
       "      <td>0.797512</td>\n",
       "      <td>0.79159</td>\n",
       "      <td>0.804263</td>\n",
       "      <td>0.813369</td>\n",
       "      <td>0.7687</td>\n",
       "      <td>0.797029</td>\n",
       "    </tr>\n",
       "    <tr>\n",
       "      <th>7</th>\n",
       "      <td>0.803686</td>\n",
       "      <td>0.7956</td>\n",
       "      <td>0.82017</td>\n",
       "      <td>0.80614</td>\n",
       "      <td>0.805391</td>\n",
       "      <td>0.812836</td>\n",
       "      <td>0.805967</td>\n",
       "      <td>0.821145</td>\n",
       "      <td>0.800766</td>\n",
       "      <td>0.812841</td>\n",
       "    </tr>\n",
       "    <tr>\n",
       "      <th>8</th>\n",
       "      <td>0.791316</td>\n",
       "      <td>0.807898</td>\n",
       "      <td>0.832297</td>\n",
       "      <td>0.800507</td>\n",
       "      <td>0.809023</td>\n",
       "      <td>0.809749</td>\n",
       "      <td>0.808754</td>\n",
       "      <td>0.82637</td>\n",
       "      <td>0.7918</td>\n",
       "      <td>0.802323</td>\n",
       "    </tr>\n",
       "    <tr>\n",
       "      <th>9</th>\n",
       "      <td>0.810495</td>\n",
       "      <td>0.814428</td>\n",
       "      <td>0.832173</td>\n",
       "      <td>0.814393</td>\n",
       "      <td>0.822886</td>\n",
       "      <td>0.823545</td>\n",
       "      <td>0.820543</td>\n",
       "      <td>0.838257</td>\n",
       "      <td>0.808165</td>\n",
       "      <td>0.823786</td>\n",
       "    </tr>\n",
       "  </tbody>\n",
       "</table>\n",
       "</div>"
      ],
      "text/plain": [
       "          0         1         2         3         4         5         6  \\\n",
       "0  0.788479  0.797765  0.815623  0.785649  0.794334  0.788435  0.802937   \n",
       "1  0.803957  0.801349  0.829922   0.80853  0.807979  0.805499   0.81818   \n",
       "2  0.801019  0.787843  0.823743   0.79381  0.791403  0.795237  0.795814   \n",
       "3  0.773695  0.776768  0.799167  0.772676  0.787621  0.779968  0.782768   \n",
       "4  0.806001  0.797687  0.824101  0.806396  0.808636  0.801507  0.814482   \n",
       "5  0.794118  0.788201  0.808014  0.783556   0.79053  0.795848   0.81128   \n",
       "6  0.793386  0.777815  0.815518  0.792011  0.797512   0.79159  0.804263   \n",
       "7  0.803686    0.7956   0.82017   0.80614  0.805391  0.812836  0.805967   \n",
       "8  0.791316  0.807898  0.832297  0.800507  0.809023  0.809749  0.808754   \n",
       "9  0.810495  0.814428  0.832173  0.814393  0.822886  0.823545  0.820543   \n",
       "\n",
       "          7         8         9  \n",
       "0  0.816024  0.788092   0.79791  \n",
       "1  0.833552  0.793544  0.824151  \n",
       "2   0.81595  0.798936  0.812265  \n",
       "3  0.795805  0.772078  0.785938  \n",
       "4  0.831304  0.792003  0.815811  \n",
       "5  0.815316  0.780172  0.786456  \n",
       "6  0.813369    0.7687  0.797029  \n",
       "7  0.821145  0.800766  0.812841  \n",
       "8   0.82637    0.7918  0.802323  \n",
       "9  0.838257  0.808165  0.823786  "
      ]
     },
     "execution_count": 100,
     "metadata": {},
     "output_type": "execute_result"
    }
   ],
   "source": [
    "df = pd.DataFrame(None, columns = range(10), index = range(10))\n",
    "path = './logs/baseline/output/torch_resnet18_simclr_LS_default/mini_test/05way_005shot_head_default/feature/{}_{}.npy'\n",
    "for support_episode in range(10):\n",
    "    for query_episode in range(10):\n",
    "        x_support = np.load(path.format(support_episode,'support'))\n",
    "        x_query = np.load(path.format(query_episode, 'query'))\n",
    "        y_support = torch.arange(5).repeat_interleave(5)\n",
    "        y_query = torch.arange(5).repeat_interleave(15)\n",
    "        \n",
    "        hardness = get_hardness(x_support, y_support, x_query, y_query)\n",
    "        df.loc[support_episode, query_episode] = hardness\n",
    "\n",
    "df"
   ]
  },
  {
   "cell_type": "code",
   "execution_count": 110,
   "id": "4fd50ea3-d61c-4940-b066-0d6ee0d229d0",
   "metadata": {},
   "outputs": [
    {
     "data": {
      "text/plain": [
       "-1.3862943611198906"
      ]
     },
     "execution_count": 110,
     "metadata": {},
     "output_type": "execute_result"
    }
   ],
   "source": [
    "math.log(0.25)"
   ]
  },
  {
   "cell_type": "markdown",
   "id": "68a6d8d0-b3bd-4ed0-9a41-f0b1efc3c94e",
   "metadata": {
    "tags": []
   },
   "source": [
    "### Simplified Version"
   ]
  },
  {
   "cell_type": "code",
   "execution_count": 1,
   "id": "5a4b1528-a32d-4e65-843e-94ffe424838d",
   "metadata": {},
   "outputs": [],
   "source": [
    "support = dict(images=[], classes=[])"
   ]
  },
  {
   "cell_type": "code",
   "execution_count": 2,
   "id": "23e4d7b6-0819-4106-9d6d-688a321bce11",
   "metadata": {},
   "outputs": [
    {
     "data": {
      "text/plain": [
       "{'images': [], 'classes': []}"
      ]
     },
     "execution_count": 2,
     "metadata": {},
     "output_type": "execute_result"
    }
   ],
   "source": [
    "support"
   ]
  },
  {
   "cell_type": "code",
   "execution_count": 4,
   "id": "3089d4e3-5c9a-419d-ab55-3957f0ef9ff5",
   "metadata": {},
   "outputs": [
    {
     "data": {
      "text/plain": [
       "{1: 1, 2: 1, 3: 1, 4: 1}"
      ]
     },
     "execution_count": 4,
     "metadata": {},
     "output_type": "execute_result"
    }
   ],
   "source": [
    "{cls : 1 for cls in [1,2,3,4]}"
   ]
  },
  {
   "cell_type": "code",
   "execution_count": 9,
   "id": "2097eddc-5967-429a-bc02-5c44b44d8e38",
   "metadata": {},
   "outputs": [],
   "source": [
    "support['classes'] += ([2] * 3) "
   ]
  },
  {
   "cell_type": "code",
   "execution_count": 10,
   "id": "7c8fe1d6-54ef-4c20-9c20-de1bb2b57eb1",
   "metadata": {},
   "outputs": [
    {
     "data": {
      "text/plain": [
       "{'images': [], 'classes': [1, 1, 1, 1, 2, 2, 2]}"
      ]
     },
     "execution_count": 10,
     "metadata": {},
     "output_type": "execute_result"
    }
   ],
   "source": [
    "support"
   ]
  },
  {
   "cell_type": "code",
   "execution_count": null,
   "id": "615392ae-20a4-42a2-907c-236157558058",
   "metadata": {},
   "outputs": [],
   "source": []
  }
 ],
 "metadata": {
  "kernelspec": {
   "display_name": "Python 3 (ipykernel)",
   "language": "python",
   "name": "python3"
  },
  "language_info": {
   "codemirror_mode": {
    "name": "ipython",
    "version": 3
   },
   "file_extension": ".py",
   "mimetype": "text/x-python",
   "name": "python",
   "nbconvert_exporter": "python",
   "pygments_lexer": "ipython3",
   "version": "3.9.7"
  }
 },
 "nbformat": 4,
 "nbformat_minor": 5
}
