{
 "cells": [
  {
   "cell_type": "code",
   "execution_count": 8,
   "id": "13a34bbd-fa3c-42dc-be4b-5b31a6476ec8",
   "metadata": {},
   "outputs": [],
   "source": [
    "pretrained = './logs/baseline/output/resnet10_simclr_LS_default/pretrain_state_1000.pt'"
   ]
  },
  {
   "cell_type": "code",
   "execution_count": 9,
   "id": "4f86fbba-65dc-4dc7-841d-e356777a0954",
   "metadata": {},
   "outputs": [],
   "source": [
    "body = './logs/baseline/output/resnet10_simclr_LS_default/mini_test/05way_001shot_full_default/body_001.pt'"
   ]
  },
  {
   "cell_type": "code",
   "execution_count": 6,
   "id": "f87791bb-2966-41e1-a0aa-678d28225034",
   "metadata": {},
   "outputs": [],
   "source": [
    "import torch"
   ]
  },
  {
   "cell_type": "code",
   "execution_count": 10,
   "id": "5af28f2a-285c-4269-8a46-d16934a1d9ae",
   "metadata": {},
   "outputs": [],
   "source": [
    "state = torch.load(pretrained)"
   ]
  },
  {
   "cell_type": "code",
   "execution_count": 11,
   "id": "8fa742ab-eeec-4608-b6ce-666c7525c33f",
   "metadata": {},
   "outputs": [
    {
     "ename": "AttributeError",
     "evalue": "module 'torch' has no attribute 'load_state_dict'",
     "output_type": "error",
     "traceback": [
      "\u001b[0;31m---------------------------------------------------------------------------\u001b[0m",
      "\u001b[0;31mAttributeError\u001b[0m                            Traceback (most recent call last)",
      "Input \u001b[0;32mIn [11]\u001b[0m, in \u001b[0;36m<cell line: 1>\u001b[0;34m()\u001b[0m\n\u001b[0;32m----> 1\u001b[0m body_model \u001b[38;5;241m=\u001b[39m \u001b[43mtorch\u001b[49m\u001b[38;5;241;43m.\u001b[39;49m\u001b[43mload_state_dict\u001b[49m(body)\n",
      "\u001b[0;31mAttributeError\u001b[0m: module 'torch' has no attribute 'load_state_dict'"
     ]
    }
   ],
   "source": [
    "body_model = torch.load_state_dict(body)"
   ]
  },
  {
   "cell_type": "code",
   "execution_count": null,
   "id": "8c2ca752-68a4-47fa-bcda-388c0490219b",
   "metadata": {},
   "outputs": [],
   "source": []
  }
 ],
 "metadata": {
  "kernelspec": {
   "display_name": "Python 3 (ipykernel)",
   "language": "python",
   "name": "python3"
  },
  "language_info": {
   "codemirror_mode": {
    "name": "ipython",
    "version": 3
   },
   "file_extension": ".py",
   "mimetype": "text/x-python",
   "name": "python",
   "nbconvert_exporter": "python",
   "pygments_lexer": "ipython3",
   "version": "3.9.11"
  }
 },
 "nbformat": 4,
 "nbformat_minor": 5
}
