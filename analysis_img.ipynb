{
 "cells": [
  {
   "cell_type": "code",
   "execution_count": 187,
   "id": "4e68d553-d37a-40b8-911f-90c4fa26449c",
   "metadata": {},
   "outputs": [],
   "source": [
    "import PIL\n",
    "import torchvision.transforms as transforms\n",
    "import cv2\n",
    "import math\n",
    "import numpy as np\n",
    "from sklearn.metrics.pairwise import cosine_similarity\n",
    "from sklearn.metrics.pairwise import euclidean_distances\n",
    "from sklearn.metrics.pairwise import cosine_distances\n",
    "\n",
    "import pandas as pd\n",
    "import matplotlib.pyplot as plt; import matplotlib.pylab as plt\n",
    "import seaborn as sns\n",
    "import pickle\n",
    "import matplotlib.font_manager as fm\n",
    "import matplotlib as mpl\n",
    "import itertools\n",
    "\n",
    "plt.rcParams[\"figure.figsize\"] = (14,4)\n",
    "plt.rcParams['lines.linewidth'] = 3\n",
    "plt.rcParams['font.size'] = 15\n",
    "methods = {'CORREL' :cv2.HISTCMP_CORREL, 'BHATTACHARYYA':cv2.HISTCMP_BHATTACHARYYA}"
   ]
  },
  {
   "cell_type": "markdown",
   "id": "66bb2a53-0d49-4a10-bdef-a0fd751e5954",
   "metadata": {
    "tags": []
   },
   "source": [
    "## Cosine Similarity"
   ]
  },
  {
   "cell_type": "markdown",
   "id": "64faacf3-f5b5-49c7-b230-16ff861714bf",
   "metadata": {
    "tags": []
   },
   "source": [
    "### Use Pretrained 100 model"
   ]
  },
  {
   "cell_type": "code",
   "execution_count": 181,
   "id": "09409dd1-a4a5-4d3e-a227-dd2c4d53e912",
   "metadata": {},
   "outputs": [
    {
     "data": {
      "text/html": [
       "<div>\n",
       "<style scoped>\n",
       "    .dataframe tbody tr th:only-of-type {\n",
       "        vertical-align: middle;\n",
       "    }\n",
       "\n",
       "    .dataframe tbody tr th {\n",
       "        vertical-align: top;\n",
       "    }\n",
       "\n",
       "    .dataframe thead th {\n",
       "        text-align: right;\n",
       "    }\n",
       "</style>\n",
       "<table border=\"1\" class=\"dataframe\">\n",
       "  <thead>\n",
       "    <tr style=\"text-align: right;\">\n",
       "      <th></th>\n",
       "      <th>best1</th>\n",
       "      <th>best2</th>\n",
       "      <th>best3</th>\n",
       "      <th>best4</th>\n",
       "      <th>best5</th>\n",
       "      <th>worst1</th>\n",
       "      <th>worst2</th>\n",
       "      <th>worst3</th>\n",
       "      <th>worst4</th>\n",
       "      <th>worst5</th>\n",
       "    </tr>\n",
       "  </thead>\n",
       "  <tbody>\n",
       "    <tr>\n",
       "      <th>mini_test</th>\n",
       "      <td>139531416.143302</td>\n",
       "      <td>139512708.572074</td>\n",
       "      <td>140024636.129421</td>\n",
       "      <td>139720602.731399</td>\n",
       "      <td>139652068.212694</td>\n",
       "      <td>139104250.736981</td>\n",
       "      <td>139070402.175959</td>\n",
       "      <td>139352399.667746</td>\n",
       "      <td>139194969.940311</td>\n",
       "      <td>138934642.006693</td>\n",
       "    </tr>\n",
       "    <tr>\n",
       "      <th>crop</th>\n",
       "      <td>140360712.803798</td>\n",
       "      <td>139361650.33081</td>\n",
       "      <td>140269175.800719</td>\n",
       "      <td>139696837.8923</td>\n",
       "      <td>139474626.467922</td>\n",
       "      <td>139561755.502175</td>\n",
       "      <td>139713518.824023</td>\n",
       "      <td>139892959.055186</td>\n",
       "      <td>139616513.784767</td>\n",
       "      <td>139705553.477388</td>\n",
       "    </tr>\n",
       "    <tr>\n",
       "      <th>euro</th>\n",
       "      <td>139479072.347019</td>\n",
       "      <td>139874290.325661</td>\n",
       "      <td>139384536.928382</td>\n",
       "      <td>139080987.1043</td>\n",
       "      <td>139556885.273859</td>\n",
       "      <td>138804162.362028</td>\n",
       "      <td>139304356.764428</td>\n",
       "      <td>139304743.022009</td>\n",
       "      <td>139414950.37104</td>\n",
       "      <td>139108671.366299</td>\n",
       "    </tr>\n",
       "    <tr>\n",
       "      <th>isic</th>\n",
       "      <td>138980432.437739</td>\n",
       "      <td>138794091.743485</td>\n",
       "      <td>139184874.051367</td>\n",
       "      <td>139411358.63602</td>\n",
       "      <td>139547976.957537</td>\n",
       "      <td>139361615.566913</td>\n",
       "      <td>138784176.871838</td>\n",
       "      <td>138769355.599707</td>\n",
       "      <td>139050478.347352</td>\n",
       "      <td>139055397.202397</td>\n",
       "    </tr>\n",
       "    <tr>\n",
       "      <th>chest</th>\n",
       "      <td>139210930.295286</td>\n",
       "      <td>139042198.662017</td>\n",
       "      <td>138907047.784563</td>\n",
       "      <td>139445065.341944</td>\n",
       "      <td>139053481.538883</td>\n",
       "      <td>139064750.844029</td>\n",
       "      <td>138970908.209015</td>\n",
       "      <td>139433775.34255</td>\n",
       "      <td>138908835.2586</td>\n",
       "      <td>138725205.851832</td>\n",
       "    </tr>\n",
       "  </tbody>\n",
       "</table>\n",
       "</div>"
      ],
      "text/plain": [
       "                      best1             best2             best3  \\\n",
       "mini_test  139531416.143302  139512708.572074  140024636.129421   \n",
       "crop       140360712.803798   139361650.33081  140269175.800719   \n",
       "euro       139479072.347019  139874290.325661  139384536.928382   \n",
       "isic       138980432.437739  138794091.743485  139184874.051367   \n",
       "chest      139210930.295286  139042198.662017  138907047.784563   \n",
       "\n",
       "                      best4             best5            worst1  \\\n",
       "mini_test  139720602.731399  139652068.212694  139104250.736981   \n",
       "crop         139696837.8923  139474626.467922  139561755.502175   \n",
       "euro         139080987.1043  139556885.273859  138804162.362028   \n",
       "isic        139411358.63602  139547976.957537  139361615.566913   \n",
       "chest      139445065.341944  139053481.538883  139064750.844029   \n",
       "\n",
       "                     worst2            worst3            worst4  \\\n",
       "mini_test  139070402.175959  139352399.667746  139194969.940311   \n",
       "crop       139713518.824023  139892959.055186  139616513.784767   \n",
       "euro       139304356.764428  139304743.022009   139414950.37104   \n",
       "isic       138784176.871838  138769355.599707  139050478.347352   \n",
       "chest      138970908.209015   139433775.34255    138908835.2586   \n",
       "\n",
       "                     worst5  \n",
       "mini_test  138934642.006693  \n",
       "crop       139705553.477388  \n",
       "euro       139108671.366299  \n",
       "isic       139055397.202397  \n",
       "chest      138725205.851832  "
      ]
     },
     "execution_count": 181,
     "metadata": {},
     "output_type": "execute_result"
    }
   ],
   "source": [
    "datas = ['mini_test', 'crop','euro', 'isic', 'chest']\n",
    "name = ['best1', 'best2', 'best3', 'best4', 'best5', 'orst1', 'orst2', 'orst3', 'orst4', 'orst5']\n",
    "df = pd.DataFrame(None, columns = name, index = datas)\n",
    "for data in df.index: \n",
    "    for col in df.columns:\n",
    "        path_support = './logs/img_ft_difference/feature/{}/pretrained/1shot/{}_x_support.npy'.format(data, col)\n",
    "        path_query = './logs/img_ft_difference/feature/{}/pretrained/1shot/{}_x_query.npy'.format(data, col)\n",
    "        f_s = np.load(path_support)\n",
    "        f_q = np.load(path_query)\n",
    "        sim = cosine_similarity(f_s, f_q)\n",
    "        score = 0\n",
    "        for cls in range(5):\n",
    "            idx = cls * 15\n",
    "            in_class = sim[:, idx:idx+15]\n",
    "            for i in range(15):\n",
    "                support = in_class[:,i]\n",
    "                score = score + support[cls]/np.sum(np.delete(support, 1))\n",
    "        df.loc[data,col] = math.exp(score)\n",
    "df.columns = ['best1', 'best2', 'best3', 'best4', 'best5', 'worst1', 'worst2', 'worst3', 'worst4', 'worst5']\n",
    "df"
   ]
  },
  {
   "cell_type": "code",
   "execution_count": 182,
   "id": "509be8bc-3ffe-406d-b1e8-d6ff99963689",
   "metadata": {},
   "outputs": [
    {
     "data": {
      "image/png": "[encoded data removed]",
      "text/plain": [
       "<Figure size 432x576 with 1 Axes>"
      ]
     },
     "metadata": {
      "needs_background": "light"
     },
     "output_type": "display_data"
    }
   ],
   "source": [
    "df1 = df.iloc[:,:5].mean(axis=1)\n",
    "df2 = df.iloc[:,5:].mean(axis=1)\n",
    "plt.figure(figsize=(6, 8))\n",
    "plt.plot(df1, '_', color='r', markersize= 20, markeredgewidth='3')\n",
    "plt.plot(df2, '_', color='b', markersize= 20, markeredgewidth='3')\n",
    "plt.title(\"5way 1shot\" , fontsize = 20)\n",
    "plt.show()"
   ]
  },
  {
   "cell_type": "code",
   "execution_count": 162,
   "id": "ae9c3b7e-73fd-42ef-99ea-644cf6a5be06",
   "metadata": {},
   "outputs": [
    {
     "data": {
      "text/html": [
       "<div>\n",
       "<style scoped>\n",
       "    .dataframe tbody tr th:only-of-type {\n",
       "        vertical-align: middle;\n",
       "    }\n",
       "\n",
       "    .dataframe tbody tr th {\n",
       "        vertical-align: top;\n",
       "    }\n",
       "\n",
       "    .dataframe thead th {\n",
       "        text-align: right;\n",
       "    }\n",
       "</style>\n",
       "<table border=\"1\" class=\"dataframe\">\n",
       "  <thead>\n",
       "    <tr style=\"text-align: right;\">\n",
       "      <th></th>\n",
       "      <th>best1</th>\n",
       "      <th>best2</th>\n",
       "      <th>best3</th>\n",
       "      <th>best4</th>\n",
       "      <th>best5</th>\n",
       "      <th>worst1</th>\n",
       "      <th>worst2</th>\n",
       "      <th>worst3</th>\n",
       "      <th>worst4</th>\n",
       "      <th>worst5</th>\n",
       "    </tr>\n",
       "  </thead>\n",
       "  <tbody>\n",
       "    <tr>\n",
       "      <th>mini_test</th>\n",
       "      <td>139451075.003065</td>\n",
       "      <td>139443817.581909</td>\n",
       "      <td>139628560.747597</td>\n",
       "      <td>139441852.545527</td>\n",
       "      <td>139868936.138413</td>\n",
       "      <td>139313410.09302</td>\n",
       "      <td>139622808.306284</td>\n",
       "      <td>139469847.902319</td>\n",
       "      <td>139139590.151503</td>\n",
       "      <td>138896506.436162</td>\n",
       "    </tr>\n",
       "    <tr>\n",
       "      <th>crop</th>\n",
       "      <td>139934537.232767</td>\n",
       "      <td>139963977.193074</td>\n",
       "      <td>139977532.112396</td>\n",
       "      <td>139686586.048072</td>\n",
       "      <td>139988826.647488</td>\n",
       "      <td>139628299.372468</td>\n",
       "      <td>139587752.210858</td>\n",
       "      <td>139421235.53319</td>\n",
       "      <td>139636877.21149</td>\n",
       "      <td>139439245.112877</td>\n",
       "    </tr>\n",
       "    <tr>\n",
       "      <th>euro</th>\n",
       "      <td>139596576.357712</td>\n",
       "      <td>139731555.784985</td>\n",
       "      <td>139495937.325088</td>\n",
       "      <td>139386226.995069</td>\n",
       "      <td>139405066.944677</td>\n",
       "      <td>138940125.24285</td>\n",
       "      <td>139188136.162144</td>\n",
       "      <td>139120894.699065</td>\n",
       "      <td>139102892.977752</td>\n",
       "      <td>139013463.404859</td>\n",
       "    </tr>\n",
       "    <tr>\n",
       "      <th>isic</th>\n",
       "      <td>139388114.339188</td>\n",
       "      <td>139319638.439854</td>\n",
       "      <td>139285595.270571</td>\n",
       "      <td>139329120.843698</td>\n",
       "      <td>139169027.219133</td>\n",
       "      <td>139003770.65532</td>\n",
       "      <td>139295719.904936</td>\n",
       "      <td>139135657.972227</td>\n",
       "      <td>139177643.989302</td>\n",
       "      <td>138366751.199003</td>\n",
       "    </tr>\n",
       "    <tr>\n",
       "      <th>chest</th>\n",
       "      <td>138969008.250219</td>\n",
       "      <td>138985443.197953</td>\n",
       "      <td>139201991.595673</td>\n",
       "      <td>139138451.634056</td>\n",
       "      <td>139037124.007351</td>\n",
       "      <td>138993483.71048</td>\n",
       "      <td>138994256.671827</td>\n",
       "      <td>139008233.026637</td>\n",
       "      <td>138833255.155923</td>\n",
       "      <td>138885419.445682</td>\n",
       "    </tr>\n",
       "  </tbody>\n",
       "</table>\n",
       "</div>"
      ],
      "text/plain": [
       "                      best1             best2             best3  \\\n",
       "mini_test  139451075.003065  139443817.581909  139628560.747597   \n",
       "crop       139934537.232767  139963977.193074  139977532.112396   \n",
       "euro       139596576.357712  139731555.784985  139495937.325088   \n",
       "isic       139388114.339188  139319638.439854  139285595.270571   \n",
       "chest      138969008.250219  138985443.197953  139201991.595673   \n",
       "\n",
       "                      best4             best5            worst1  \\\n",
       "mini_test  139441852.545527  139868936.138413   139313410.09302   \n",
       "crop       139686586.048072  139988826.647488  139628299.372468   \n",
       "euro       139386226.995069  139405066.944677   138940125.24285   \n",
       "isic       139329120.843698  139169027.219133   139003770.65532   \n",
       "chest      139138451.634056  139037124.007351   138993483.71048   \n",
       "\n",
       "                     worst2            worst3            worst4  \\\n",
       "mini_test  139622808.306284  139469847.902319  139139590.151503   \n",
       "crop       139587752.210858   139421235.53319   139636877.21149   \n",
       "euro       139188136.162144  139120894.699065  139102892.977752   \n",
       "isic       139295719.904936  139135657.972227  139177643.989302   \n",
       "chest      138994256.671827  139008233.026637  138833255.155923   \n",
       "\n",
       "                     worst5  \n",
       "mini_test  138896506.436162  \n",
       "crop       139439245.112877  \n",
       "euro       139013463.404859  \n",
       "isic       138366751.199003  \n",
       "chest      138885419.445682  "
      ]
     },
     "execution_count": 162,
     "metadata": {},
     "output_type": "execute_result"
    }
   ],
   "source": [
    "datas = ['mini_test', 'crop','euro', 'isic', 'chest']\n",
    "name = ['best1', 'best2', 'best3', 'best4', 'best5', 'orst1', 'orst2', 'orst3', 'orst4', 'orst5']\n",
    "df = pd.DataFrame(None, columns = name, index = datas)\n",
    "for data in df.index: \n",
    "    for col in df.columns:\n",
    "        path_support = './logs/img_ft_difference/feature/{}/pretrained/5shot/{}_x_support.npy'.format(data, col)\n",
    "        path_query = './logs/img_ft_difference/feature/{}/pretrained/5shot/{}_x_query.npy'.format(data, col)\n",
    "        f_s = np.load(path_support)\n",
    "        f_q = np.load(path_query)\n",
    "        sim = cosine_similarity(f_s, f_q)\n",
    "        mean_sim = np.empty((0, 75))\n",
    "        for cls in range(5):\n",
    "            mean = (sim[cls * 5] + sim[cls * 5 +1] + sim[cls * 5 +2] + sim[cls * 5 +3] + sim[cls * 5 +4])/5\n",
    "            mean_sim = np.append(mean_sim , mean.reshape(1, -1), axis = 0)\n",
    "        score = 0\n",
    "        for cls in range(5):\n",
    "            idx = cls * 15\n",
    "            in_class = mean_sim[:, idx:idx+15]\n",
    "            for i in range(15):\n",
    "                support = in_class[:,i]\n",
    "                score = score + support[cls]/np.sum(np.delete(support, 1))\n",
    "        df.loc[data,col] = math.exp(score)\n",
    "        \n",
    "df.columns = ['best1', 'best2', 'best3', 'best4', 'best5', 'worst1', 'worst2', 'worst3', 'worst4', 'worst5']\n",
    "df"
   ]
  },
  {
   "cell_type": "code",
   "execution_count": 180,
   "id": "7b9d69a6-079f-4dea-9325-dd0f2b1eeb10",
   "metadata": {},
   "outputs": [
    {
     "data": {
      "image/png": "[encoded data removed]",
      "text/plain": [
       "<Figure size 432x576 with 1 Axes>"
      ]
     },
     "metadata": {
      "needs_background": "light"
     },
     "output_type": "display_data"
    }
   ],
   "source": [
    "df1 = df.iloc[:,:5].mean(axis=1)\n",
    "df2 = df.iloc[:,5:].mean(axis=1)\n",
    "plt.figure(figsize=(6, 8))\n",
    "plt.plot(df1, '_', color='r', markersize= 20, markeredgewidth='3')\n",
    "plt.plot(df2, '_', color='b', markersize= 20, markeredgewidth='3')\n",
    "plt.title(\"5way 5shot\" , fontsize = 20)\n",
    "plt.show()"
   ]
  },
  {
   "cell_type": "code",
   "execution_count": null,
   "id": "55506fc5-6f1e-4405-9001-aa8c84ac5664",
   "metadata": {},
   "outputs": [],
   "source": [
    "path_support = './logs/img_ft_difference/feature/crop/5shot/best1_x_support.npy'\n",
    "path_query = './logs/img_ft_difference/feature/crop/5shot/best1_x_query.npy'\n",
    "f_s = np.load(path_support)\n",
    "f_q = np.load(path_query)\n",
    "f_s.shape\n",
    "f_q.shape"
   ]
  },
  {
   "cell_type": "code",
   "execution_count": null,
   "id": "0e007e78-0aed-483b-920c-8b65394f9f3b",
   "metadata": {},
   "outputs": [],
   "source": [
    "sim = cosine_similarity(f_s, f_q)"
   ]
  },
  {
   "cell_type": "code",
   "execution_count": null,
   "id": "6d9cc29c-ecf7-490e-98b4-6ea14914596d",
   "metadata": {},
   "outputs": [],
   "source": [
    "mean_sim = np.empty((0, 75))\n",
    "for cls in range(5):\n",
    "    mean = (sim[cls * 5] + sim[cls * 5 +1] + sim[cls * 5 +2] + sim[cls * 5 +3] + sim[cls * 5 +4])/5\n",
    "    mean_sim = np.append(mean_sim , mean.reshape(1, -1), axis = 0)\n",
    "mean_sim.shape"
   ]
  },
  {
   "cell_type": "code",
   "execution_count": null,
   "id": "0863d1a2-1c7a-4842-bce5-716eabba3375",
   "metadata": {},
   "outputs": [],
   "source": [
    "score = 0\n",
    "for cls in range(5):\n",
    "    idx = cls * 15\n",
    "    in_class = mean_sim[:, idx:idx+15]\n",
    "    for i in range(15):\n",
    "        support = in_class[:,i]\n",
    "        score = score + support[cls]/np.sum(np.delete(support, 1))\n",
    "print(math.exp(score))"
   ]
  },
  {
   "cell_type": "markdown",
   "id": "50cccd2b-d3e7-4e0a-8bf1-db496b177557",
   "metadata": {},
   "source": [
    "## Image Difference"
   ]
  },
  {
   "cell_type": "code",
   "execution_count": null,
   "id": "01be7520-3fab-4897-aa20-186abeff9e6f",
   "metadata": {},
   "outputs": [],
   "source": [
    "samples[0].shape"
   ]
  },
  {
   "cell_type": "code",
   "execution_count": null,
   "id": "57d086fe-8ba5-41d6-8abd-4525c7438b48",
   "metadata": {},
   "outputs": [],
   "source": [
    "# 1 shot\n",
    "for j, (name, flag) in enumerate(methods.items()):\n",
    "    df = pd.DataFrame(None, columns = list(range(1, 6)), index = list(range(1, 76)))\n",
    "    print(name)\n",
    "    for bw in ['best', 'worst']:\n",
    "        for rank in range(1, 4):\n",
    "            path = './logs/baseline/output/resnet10_simclr_LS_default/crop/05way_001shot_head_default/{}{}.txt'.format(bw, rank)\n",
    "            print(bw, rank)\n",
    "            with open(path, 'rb') as f:\n",
    "                test_acc1 = pickle.load(f)\n",
    "                x_support = pickle.load(f)\n",
    "                y_support = pickle.load(f)\n",
    "                x_query = pickle.load(f)\n",
    "                y_query = pickle.load(f)\n",
    "            idx = 0\n",
    "            # query 돌기 0~74\n",
    "            for q_sample in x_query:\n",
    "                query = q_sample.cpu().numpy().transpose(1,2,0)\n",
    "                query_hsv = cv2.cvtColor(query, cv2.COLOR_BGR2HSV)\n",
    "                query_hist = cv2.calcHist([hsv], [0,1], None, [180,256], [0,180,0, 256])\n",
    "                query = query_hist\n",
    "                samples = []\n",
    "                hists = []\n",
    "                # support 돌기 0~4\n",
    "                for sample in x_support:\n",
    "                    sample_var = sample.cpu().numpy().transpose(1, 2, 0)\n",
    "                    samples.append(sample_var)\n",
    "                for i, img in enumerate(samples) :\n",
    "                    hsv = cv2.cvtColor(img, cv2.COLOR_BGR2HSV)\n",
    "                    hist = cv2.calcHist([hsv], [0,1], None, [180,256], [0,180,0, 256])\n",
    "                    cv2.normalize(hist, hist, 0, 1, cv2.NORM_MINMAX)\n",
    "                    hists.append(hist)\n",
    "                row = []\n",
    "                for i, (hist, img) in enumerate(zip(hists, samples)):\n",
    "                    ret = cv2.compareHist(query, hist, flag)\n",
    "                    row.append(round(ret, 2))\n",
    "                #print(row)\n",
    "                #print(row[1:])\n",
    "                #print(row[0] / sum(row[1:]))\n",
    "\n",
    "    #             idx = idx + 1\n",
    "    # print(name)\n",
    "    # df.to_csv('./logs/img_ft_difference/image/chest/1shot_' + '{}.csv'.format(name), index=False)"
   ]
  },
  {
   "cell_type": "code",
   "execution_count": null,
   "id": "4eeccf82-0a9f-44a5-b93b-2bb02ee85ba5",
   "metadata": {},
   "outputs": [],
   "source": [
    "y_query"
   ]
  },
  {
   "cell_type": "code",
   "execution_count": null,
   "id": "20b2cc8d-2690-4e76-aae3-f61e922db7ff",
   "metadata": {},
   "outputs": [],
   "source": [
    "# 5shot\n",
    "for j, (name, flag) in enumerate(methods.items()):\n",
    "    df = pd.DataFrame(None, columns = list(range(1, 26)), index = list(range(1, 76)))\n",
    "    for bw in ['best', 'worst']:\n",
    "        for rank in range(1, 4):\n",
    "            path = './logs/baseline/output/resnet10_simclr_LS_default/chest/05way_005shot_head_default/{}{}.txt'.format(bw, rank)\n",
    "            with open(path, 'rb') as f:\n",
    "                test_acc1 = pickle.load(f)\n",
    "                x_support = pickle.load(f)\n",
    "                y_support = pickle.load(f)\n",
    "                x_query = pickle.load(f)\n",
    "                y_query = pickle.load(f)\n",
    "            idx = 0\n",
    "            for q_sample in x_query:\n",
    "                query = q_sample.cpu().numpy().transpose(1,2,0)\n",
    "                query_hsv = cv2.cvtColor(query, cv2.COLOR_BGR2HSV)\n",
    "                query_hist = cv2.calcHist([hsv], [0,1], None, [180,256], [0,180,0, 256])\n",
    "                query = query_hist\n",
    "                samples = []\n",
    "                hists = []\n",
    "                for sample in x_support:\n",
    "                    samples.append(sample.cpu().numpy().transpose(1, 2, 0))\n",
    "                for i, img in enumerate(samples) :\n",
    "                    hsv = cv2.cvtColor(img, cv2.COLOR_BGR2HSV)\n",
    "                    hist = cv2.calcHist([hsv], [0,1], None, [180,256], [0,180,0, 256])\n",
    "                    cv2.normalize(hist, hist, 0, 1, cv2.NORM_MINMAX)\n",
    "                    hists.append(hist)\n",
    "                row = []\n",
    "                for i, (hist, img) in enumerate(zip(hists, samples)):\n",
    "                    ret = cv2.compareHist(query, hist, flag)\n",
    "                    row.append(round(ret, 2))\n",
    "                df.iloc[idx] = row\n",
    "                idx = idx + 1\n",
    "    print(name)\n",
    "    df.to_csv('./logs/img_ft_difference/image/chest/5shot_' + '{}.csv'.format(name), index=False)"
   ]
  },
  {
   "cell_type": "code",
   "execution_count": null,
   "id": "161004dc-0012-4b1f-937f-3357f062e5d3",
   "metadata": {},
   "outputs": [],
   "source": [
    "path1 = './logs/baseline/output/resnet10_simclr_LS_default/mini_test/05way_001shot_head_default/best1.txt'\n",
    "path2 = './logs/baseline/output/resnet10_simclr_LS_default/crop/05way_005shot_head_default/best2.txt'\n",
    "path3 = './logs/baseline/output/resnet10_simclr_LS_default/crop/05way_005shot_head_default/best3.txt'\n",
    "with open(path1, 'rb') as f:\n",
    "    test_acc1 = pickle.load(f)\n",
    "    x_support = pickle.load(f)\n",
    "    y_support = pickle.load(f)\n",
    "    x_query = pickle.load(f)\n",
    "    y_query = pickle.load(f)\n",
    "with open(path2, 'rb') as f:\n",
    "    test_acc2 = pickle.load(f)\n",
    "    best_img2 = pickle.load(f)\n",
    "with open(path3, 'rb') as f:\n",
    "    test_acc3 = pickle.load(f)\n",
    "    best_img3 = pickle.load(f)"
   ]
  },
  {
   "cell_type": "code",
   "execution_count": null,
   "id": "7aa0fdf7-b6b4-44fb-9f0d-9e48baa7278b",
   "metadata": {},
   "outputs": [],
   "source": [
    "path = './logs/baseline/output/resnet10_simclr_LS_default/mini_test/05way_001shot_head_default/worst1.txt'\n",
    "with open(path, 'rb') as f:\n",
    "    test_acc1 = pickle.load(f)\n",
    "    x_support = pickle.load(f)\n",
    "    y_support = pickle.load(f)\n",
    "    x_query = pickle.load(f)\n",
    "    y_query = pickle.load(f)"
   ]
  },
  {
   "cell_type": "code",
   "execution_count": null,
   "id": "cc305a21-1106-4c24-bd63-e77e57e6e2c8",
   "metadata": {},
   "outputs": [],
   "source": [
    "x_support.shape"
   ]
  },
  {
   "cell_type": "code",
   "execution_count": null,
   "id": "c7d8f767-8795-4828-a5de-2c7610f9d3c7",
   "metadata": {},
   "outputs": [],
   "source": [
    "plt.imshow(x_support[4].cpu().permute(1, 2, 0))"
   ]
  },
  {
   "cell_type": "code",
   "execution_count": null,
   "id": "eebb6540-0fd6-46d2-9925-33d907d0b8af",
   "metadata": {},
   "outputs": [],
   "source": [
    "plt.imshow(x_query[70].cpu().permute(1, 2, 0))"
   ]
  },
  {
   "cell_type": "code",
   "execution_count": null,
   "id": "b029f206-395f-44c3-ac58-703bad163870",
   "metadata": {},
   "outputs": [],
   "source": [
    "x_support.shape"
   ]
  },
  {
   "cell_type": "code",
   "execution_count": null,
   "id": "9874f1b4-372f-4938-8bbd-d1fc3e903ded",
   "metadata": {},
   "outputs": [],
   "source": [
    "query = x_query[70].cpu().numpy().transpose(1, 2, 0)\n",
    "img1 = x_support[0].cpu().numpy().transpose(1, 2, 0)\n",
    "img2 = x_support[1].cpu().numpy().transpose(1, 2, 0)\n",
    "img3 = x_support[2].cpu().numpy().transpose(1, 2, 0)\n",
    "img4 = x_support[3].cpu().numpy().transpose(1, 2, 0)\n",
    "img5 = x_support[4].cpu().numpy().transpose(1, 2, 0)\n",
    "\n",
    "imgs = [img1, img2, img3, img4, img5]\n",
    "hists = []\n",
    "for i, img in enumerate(imgs) :\n",
    "    #---① 각 이미지를 HSV로 변환\n",
    "    hsv = cv2.cvtColor(img, cv2.COLOR_BGR2HSV)\n",
    "    #---② H,S 채널에 대한 히스토그램 계산\n",
    "    hist = cv2.calcHist([hsv], [0,1], None, [180,256], [0,180,0, 256])\n",
    "    #---③ 0~1로 정규화\n",
    "    cv2.normalize(hist, hist, 0, 1, cv2.NORM_MINMAX)\n",
    "    hists.append(hist)\n",
    "\n",
    "query_hsv = cv2.cvtColor(query, cv2.COLOR_BGR2HSV)\n",
    "query_hist = cv2.calcHist([hsv], [0,1], None, [180,256], [0,180,0, 256])\n",
    "query = query_hist\n",
    "methods = {'CORREL' :cv2.HISTCMP_CORREL, 'CHISQR':cv2.HISTCMP_CHISQR, \n",
    "           'INTERSECT':cv2.HISTCMP_INTERSECT,\n",
    "           'BHATTACHARYYA':cv2.HISTCMP_BHATTACHARYYA}\n",
    "\n",
    "\n",
    "for j, (name, flag) in enumerate(methods.items()):\n",
    "    print('%-10s'%name, end='\\t')\n",
    "    for i, (hist, img) in enumerate(zip(hists, imgs)):\n",
    "        #---④ 각 메서드에 따라 img1과 각 이미지의 히스토그램 비교\n",
    "        ret = cv2.compareHist(query, hist, flag)\n",
    "        if flag == cv2.HISTCMP_INTERSECT: #교차 분석인 경우 \n",
    "            ret = ret/np.sum(query)        #비교대상으로 나누어 1로 정규화\n",
    "        print(\"img%d:%7.2f\"% (i+1 , ret), end='\\t')\n",
    "    print()\n",
    "plt.show()"
   ]
  },
  {
   "cell_type": "code",
   "execution_count": null,
   "id": "10cc8744-d799-4fcb-a9a8-182d658cb0be",
   "metadata": {},
   "outputs": [],
   "source": [
    "for img in x_support:\n",
    "    plt.imshow(img.cpu().permute(1, 2, 0))"
   ]
  },
  {
   "cell_type": "markdown",
   "id": "28baff20-a673-49ed-b830-534e5c02070d",
   "metadata": {},
   "source": [
    "## Loss per iteration"
   ]
  },
  {
   "cell_type": "code",
   "execution_count": null,
   "id": "63b3f8dd-2c5b-41a8-8a54-8f89c6a7a94e",
   "metadata": {},
   "outputs": [],
   "source": [
    "grad_path = \"./logs/experiment/perplexity/resnet10_simclr_LS_default/chest/05way_001shot_head_default/loss_history.csv\"\n",
    "grad_df = pd.read_csv(grad_path, index_col='Unnamed: 0')\n",
    "plt.xticks(np.arange(-1, 200, 50))\n",
    "plt.title(\"Success\")\n",
    "for n_iter in range(0, 3):\n",
    "    grad_df.iloc[n_iter,:].plot()\n",
    "    plt.ylim(-0.1, 4)\n",
    "plt.show()\n",
    "\n",
    "plt.xticks(np.arange(-1, 200, 50))\n",
    "plt.title(\"Fail\")\n",
    "for n_iter in range(3, 6):\n",
    "    grad_df.iloc[n_iter,:].plot()\n",
    "    plt.ylim(-0.1, 4)\n",
    "plt.show()"
   ]
  },
  {
   "cell_type": "code",
   "execution_count": null,
   "id": "1a97c439-09ee-4ea0-9805-f539a9d03723",
   "metadata": {},
   "outputs": [],
   "source": [
    "grad_path = \"./logs/experiment/perplexity/resnet10_simclr_LS_default/chest/05way_005shot_head_default/loss_history.csv\"\n",
    "grad_df = pd.read_csv(grad_path, index_col='Unnamed: 0')\n",
    "plt.xticks(np.arange(-1, 700, 100))\n",
    "plt.title(\"Success\")\n",
    "for n_iter in range(0, 3):\n",
    "    grad_df.iloc[n_iter,:].plot()\n",
    "    plt.ylim(-0.1, 4)\n",
    "plt.show()\n",
    "\n",
    "plt.xticks(np.arange(-1, 700, 100))\n",
    "plt.title(\"Fail\")\n",
    "for n_iter in range(3, 6):\n",
    "    grad_df.iloc[n_iter,:].plot()\n",
    "    plt.ylim(-0.1, 4)\n",
    "plt.show()"
   ]
  },
  {
   "cell_type": "markdown",
   "id": "c72cfb6d-6bcd-4817-a31d-e69b8d41e460",
   "metadata": {},
   "source": [
    "오 차이 절대 없어~"
   ]
  },
  {
   "cell_type": "markdown",
   "id": "72cabb29-073b-4609-b8f7-6d836886ce82",
   "metadata": {},
   "source": [
    "## Gradient L2 Norm"
   ]
  },
  {
   "cell_type": "code",
   "execution_count": null,
   "id": "624c0fb3-47a2-4042-9ee0-4e0e7fd46882",
   "metadata": {},
   "outputs": [],
   "source": [
    "grad_path = \"./logs/experiment/perplexity/resnet10_simclr_LS_default/chest/05way_001shot_head_default/grad_history.csv\"\n",
    "grad_df = pd.read_csv(grad_path, index_col='Unnamed: 0')\n",
    "plt.xticks(np.arange(-1, 200, 50))\n",
    "plt.title(\"Success\")\n",
    "for n_iter in range(0, 3):\n",
    "    grad_df.iloc[n_iter,:].plot()\n",
    "    plt.ylim(-0.1, 20)\n",
    "plt.show()\n",
    "\n",
    "plt.title(\"Fail\")\n",
    "plt.xticks(np.arange(-1, 200, 50))\n",
    "for n_iter in range(3, 6):\n",
    "    grad_df.iloc[n_iter,:].plot()\n",
    "    plt.ylim(-0.1, 20)\n",
    "plt.show()"
   ]
  },
  {
   "cell_type": "code",
   "execution_count": null,
   "id": "4ead9d5b-5a79-4486-ac31-d6ab805d320f",
   "metadata": {},
   "outputs": [],
   "source": [
    "grad_path = \"./logs/experiment/perplexity/resnet10_simclr_LS_default/isic/05way_005shot_head_default/grad_history.csv\"\n",
    "grad_df = pd.read_csv(grad_path, index_col='Unnamed: 0')\n",
    "plt.xticks(np.arange(-1, 700, 100))\n",
    "plt.title(\"Success\")\n",
    "for n_iter in range(0, 3):\n",
    "    grad_df.iloc[n_iter,:].plot()\n",
    "    plt.ylim(-0.1, 20)\n",
    "plt.show()\n",
    "\n",
    "plt.title(\"Fail\")\n",
    "plt.xticks(np.arange(-1, 700, 100))\n",
    "for n_iter in range(3, 6):\n",
    "    grad_df.iloc[n_iter,:].plot()\n",
    "    plt.ylim(-0.1, 20)\n",
    "plt.show()"
   ]
  },
  {
   "cell_type": "code",
   "execution_count": null,
   "id": "2831525a-23b8-4640-b993-6c779c1684e9",
   "metadata": {},
   "outputs": [],
   "source": [
    "grad_df"
   ]
  },
  {
   "cell_type": "code",
   "execution_count": null,
   "id": "1ceb7e3a-169d-4ff0-a8d4-b72091e7f95d",
   "metadata": {},
   "outputs": [],
   "source": []
  }
 ],
 "metadata": {
  "kernelspec": {
   "display_name": "Python 3 (ipykernel)",
   "language": "python",
   "name": "python3"
  },
  "language_info": {
   "codemirror_mode": {
    "name": "ipython",
    "version": 3
   },
   "file_extension": ".py",
   "mimetype": "text/x-python",
   "name": "python",
   "nbconvert_exporter": "python",
   "pygments_lexer": "ipython3",
   "version": "3.9.7"
  }
 },
 "nbformat": 4,
 "nbformat_minor": 5
}
