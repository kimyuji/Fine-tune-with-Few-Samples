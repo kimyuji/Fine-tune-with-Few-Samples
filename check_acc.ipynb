{
 "cells": [
  {
   "cell_type": "code",
   "execution_count": 1,
   "id": "5dc2ab9f-4298-4995-9b10-bf89a7407e0d",
   "metadata": {},
   "outputs": [
    {
     "name": "stdout",
     "output_type": "stream",
     "text": [
      "['Times New Roman']\n",
      "23.0\n",
      "/opt/conda/lib/python3.8/site-packages/matplotlib/mpl-data/matplotlibrc\n"
     ]
    }
   ],
   "source": [
    "import numpy as np\n",
    "import pandas as pd\n",
    "import matplotlib.pyplot as plt\n",
    "import seaborn as sns\n",
    "import pickle\n",
    "import matplotlib.font_manager as fm\n",
    "import matplotlib as mpl\n",
    "\n",
    "import math\n",
    "plt.rcParams[\"figure.figsize\"] = (14,4)\n",
    "plt.rcParams['lines.linewidth'] = 2\n",
    "plt.rcParams['font.size'] = 23\n",
    "\n",
    "datas_full = ['mini_test', 'tiered_test', \"places\", \"plantae\", \"cars\", \"cub\", 'crop','euro', 'isic', 'chest']\n",
    "datas_fullname = ['miniIN','tieredIN','Places','Plantae', 'Cars', 'CUB', 'CropDiseases', 'EuroSAT', 'ISIC', 'ChestX']\n",
    "backbone = ['18', '34', '50', '101', '152']\n",
    "cdfsl = ['mini_test','crop', 'euro', 'isic', 'chest']\n",
    "noncdfsl = [\"places\", \"plantae\", \"cars\", \"cub\", 'tiered_test']\n",
    "\n",
    "\n",
    "import matplotlib\n",
    "myfonts = \"Times New Roman\"\n",
    "#matplotlib.rcParams['font.family'] = \"sans-serif\"\n",
    "matplotlib.rcParams['font.family'] = myfonts\n",
    "print(mpl.rcParams['font.family'])\n",
    "print(mpl.rcParams['font.size'])\n",
    "print(mpl.matplotlib_fname())"
   ]
  },
  {
   "cell_type": "code",
   "execution_count": null,
   "id": "bbfeedc0-6bed-4594-a5ee-6f7a00757bb9",
   "metadata": {},
   "outputs": [],
   "source": [
    "./logs/baseline/output/resnet10_simclr_LS_default/mini_test/05way_005shot_full_default/augmentation/randomhorizontalflip/test_history_reg_fixed_hflip.csv"
   ]
  },
  {
   "cell_type": "code",
   "execution_count": 25,
   "id": "6b6e14a3-d52d-4138-a185-84985af79a73",
   "metadata": {},
   "outputs": [
    {
     "name": "stdout",
     "output_type": "stream",
     "text": [
      "49.62{\\scriptsize$\\pm$.79} & 62.26{\\scriptsize$\\pm$.93} & 57.40{\\scriptsize$\\pm$.86} & 30.94{\\scriptsize$\\pm$.57} & 21.51{\\scriptsize$\\pm$.34} & \n",
      "80.27{\\scriptsize$\\pm$.47} & 89.07{\\scriptsize$\\pm$.55} & 79.22{\\scriptsize$\\pm$.59} & 46.09{\\scriptsize$\\pm$.64} & 25.57{\\scriptsize$\\pm$.40} & \n"
     ]
    },
    {
     "data": {
      "text/html": [
       "<div>\n",
       "<style scoped>\n",
       "    .dataframe tbody tr th:only-of-type {\n",
       "        vertical-align: middle;\n",
       "    }\n",
       "\n",
       "    .dataframe tbody tr th {\n",
       "        vertical-align: top;\n",
       "    }\n",
       "\n",
       "    .dataframe thead th {\n",
       "        text-align: right;\n",
       "    }\n",
       "</style>\n",
       "<table border=\"1\" class=\"dataframe\">\n",
       "  <thead>\n",
       "    <tr style=\"text-align: right;\">\n",
       "      <th></th>\n",
       "      <th>01shot</th>\n",
       "      <th>05shot</th>\n",
       "    </tr>\n",
       "  </thead>\n",
       "  <tbody>\n",
       "    <tr>\n",
       "      <th>mini_test</th>\n",
       "      <td>49.62 ± 79.00</td>\n",
       "      <td>80.27 ± 47.00</td>\n",
       "    </tr>\n",
       "    <tr>\n",
       "      <th>crop</th>\n",
       "      <td>62.26 ± 93.00</td>\n",
       "      <td>89.07 ± 55.00</td>\n",
       "    </tr>\n",
       "    <tr>\n",
       "      <th>euro</th>\n",
       "      <td>57.40 ± 86.00</td>\n",
       "      <td>79.22 ± 59.00</td>\n",
       "    </tr>\n",
       "    <tr>\n",
       "      <th>isic</th>\n",
       "      <td>30.94 ± 57.00</td>\n",
       "      <td>46.09 ± 64.00</td>\n",
       "    </tr>\n",
       "    <tr>\n",
       "      <th>chest</th>\n",
       "      <td>21.51 ± 34.00</td>\n",
       "      <td>25.57 ± 40.00</td>\n",
       "    </tr>\n",
       "  </tbody>\n",
       "</table>\n",
       "</div>"
      ],
      "text/plain": [
       "                  01shot         05shot\n",
       "mini_test  49.62 ± 79.00  80.27 ± 47.00\n",
       "crop       62.26 ± 93.00  89.07 ± 55.00\n",
       "euro       57.40 ± 86.00  79.22 ± 59.00\n",
       "isic       30.94 ± 57.00  46.09 ± 64.00\n",
       "chest      21.51 ± 34.00  25.57 ± 40.00"
      ]
     },
     "metadata": {},
     "output_type": "display_data"
    }
   ],
   "source": [
    "result = pd.DataFrame(None, index=cdfsl, columns=['01shot', '05shot'])\n",
    "for types in result.columns:\n",
    "    for data in result.index:\n",
    "        path = \"./logs/baseline/output/resnet10_simclr_LS_default/{}/05way_0{}_full_default/augmentation/base/test_history_reg.csv\".format(data, types)\n",
    "        test_acc = pd.read_csv(path, index_col='Unnamed: 0')\n",
    "        acc = r\"{:.2f} ± {:.2f}\".format(test_acc.mean()[-1] * 100,\n",
    "                                                 math.floor((1.96 * test_acc.std()[-1] / np.sqrt(600) * 100) * 100))\n",
    "        result.loc[data][types] = acc\n",
    "        wrt = r\"{:.2f}{{\\scriptsize$\\pm$.{}}}\".format(test_acc.mean()[-1] * 100,\n",
    "                                                 math.floor((1.96 * test_acc.std()[-1] / np.sqrt(600) * 100) * 100))\n",
    "        print(wrt, end=\" & \")\n",
    "    print()\n",
    "display(result)"
   ]
  },
  {
   "cell_type": "code",
   "execution_count": null,
   "id": "8e9acc58-213c-4a6d-8868-a9e7d723888d",
   "metadata": {},
   "outputs": [],
   "source": [
    "./logs/baseline/output/resnet10_simclr_LS_default/mini_test/05way_001shot_full_default/augmentation/base/test_history_stage2_0.9_fixed_aug.csv"
   ]
  },
  {
   "cell_type": "code",
   "execution_count": 12,
   "id": "601a45f4-e349-49b7-a149-00d36192b1e9",
   "metadata": {},
   "outputs": [
    {
     "name": "stdout",
     "output_type": "stream",
     "text": [
      "49.35{\\scriptsize$\\pm$.76} & 68.26{\\scriptsize$\\pm$.88} & 58.58{\\scriptsize$\\pm$.85} & 31.65{\\scriptsize$\\pm$.56} & 21.94{\\scriptsize$\\pm$.40} & \n",
      "75.80{\\scriptsize$\\pm$.61} & 92.62{\\scriptsize$\\pm$.46} & 83.67{\\scriptsize$\\pm$.56} & 49.90{\\scriptsize$\\pm$.62} & 26.05{\\scriptsize$\\pm$.40} & \n"
     ]
    },
    {
     "data": {
      "text/html": [
       "<div>\n",
       "<style scoped>\n",
       "    .dataframe tbody tr th:only-of-type {\n",
       "        vertical-align: middle;\n",
       "    }\n",
       "\n",
       "    .dataframe tbody tr th {\n",
       "        vertical-align: top;\n",
       "    }\n",
       "\n",
       "    .dataframe thead th {\n",
       "        text-align: right;\n",
       "    }\n",
       "</style>\n",
       "<table border=\"1\" class=\"dataframe\">\n",
       "  <thead>\n",
       "    <tr style=\"text-align: right;\">\n",
       "      <th></th>\n",
       "      <th>01shot</th>\n",
       "      <th>05shot</th>\n",
       "    </tr>\n",
       "  </thead>\n",
       "  <tbody>\n",
       "    <tr>\n",
       "      <th>mini_test</th>\n",
       "      <td>49.35 ± 76.00</td>\n",
       "      <td>75.80 ± 61.00</td>\n",
       "    </tr>\n",
       "    <tr>\n",
       "      <th>crop</th>\n",
       "      <td>68.26 ± 88.00</td>\n",
       "      <td>92.62 ± 46.00</td>\n",
       "    </tr>\n",
       "    <tr>\n",
       "      <th>euro</th>\n",
       "      <td>58.58 ± 85.00</td>\n",
       "      <td>83.67 ± 56.00</td>\n",
       "    </tr>\n",
       "    <tr>\n",
       "      <th>isic</th>\n",
       "      <td>31.65 ± 56.00</td>\n",
       "      <td>49.90 ± 62.00</td>\n",
       "    </tr>\n",
       "    <tr>\n",
       "      <th>chest</th>\n",
       "      <td>21.94 ± 40.00</td>\n",
       "      <td>26.05 ± 40.00</td>\n",
       "    </tr>\n",
       "  </tbody>\n",
       "</table>\n",
       "</div>"
      ],
      "text/plain": [
       "                  01shot         05shot\n",
       "mini_test  49.35 ± 76.00  75.80 ± 61.00\n",
       "crop       68.26 ± 88.00  92.62 ± 46.00\n",
       "euro       58.58 ± 85.00  83.67 ± 56.00\n",
       "isic       31.65 ± 56.00  49.90 ± 62.00\n",
       "chest      21.94 ± 40.00  26.05 ± 40.00"
      ]
     },
     "metadata": {},
     "output_type": "display_data"
    }
   ],
   "source": [
    "result = pd.DataFrame(None, index=cdfsl, columns=['01shot', '05shot'])\n",
    "for types in result.columns:\n",
    "    for data in result.index:\n",
    "        path = \"./logs/baseline/output/resnet10_simclr_LS_default/{}/05way_0{}_full_default/augmentation/randomhorizontalflip/test_history_stage2_0.9.csv\".format(data, types)\n",
    "        test_acc = pd.read_csv(path, index_col='Unnamed: 0')\n",
    "        acc = r\"{:.2f} ± {:.2f}\".format(test_acc.mean()[-1] * 100,\n",
    "                                                 math.floor((1.96 * test_acc.std()[-1] / np.sqrt(600) * 100) * 100))\n",
    "        result.loc[data][types] = acc\n",
    "        wrt = r\"{:.2f}{{\\scriptsize$\\pm$.{}}}\".format(test_acc.mean()[-1] * 100,\n",
    "                                                 math.floor((1.96 * test_acc.std()[-1] / np.sqrt(600) * 100) * 100))\n",
    "        print(wrt, end=\" & \")\n",
    "    print()\n",
    "display(result)"
   ]
  },
  {
   "cell_type": "code",
   "execution_count": 30,
   "id": "22b7b383-134a-4f8d-9409-e014c586cd02",
   "metadata": {},
   "outputs": [
    {
     "name": "stdout",
     "output_type": "stream",
     "text": [
      "72.93{\\scriptsize$\\pm$.64} & 90.38{\\scriptsize$\\pm$.51} & 77.29{\\scriptsize$\\pm$.63} & 48.49{\\scriptsize$\\pm$.60} & 26.19{\\scriptsize$\\pm$.44} & \n"
     ]
    },
    {
     "data": {
      "text/html": [
       "<div>\n",
       "<style scoped>\n",
       "    .dataframe tbody tr th:only-of-type {\n",
       "        vertical-align: middle;\n",
       "    }\n",
       "\n",
       "    .dataframe tbody tr th {\n",
       "        vertical-align: top;\n",
       "    }\n",
       "\n",
       "    .dataframe thead th {\n",
       "        text-align: right;\n",
       "    }\n",
       "</style>\n",
       "<table border=\"1\" class=\"dataframe\">\n",
       "  <thead>\n",
       "    <tr style=\"text-align: right;\">\n",
       "      <th></th>\n",
       "      <th>05shot</th>\n",
       "    </tr>\n",
       "  </thead>\n",
       "  <tbody>\n",
       "    <tr>\n",
       "      <th>mini_test</th>\n",
       "      <td>72.93 ± 64.00</td>\n",
       "    </tr>\n",
       "    <tr>\n",
       "      <th>crop</th>\n",
       "      <td>90.38 ± 51.00</td>\n",
       "    </tr>\n",
       "    <tr>\n",
       "      <th>euro</th>\n",
       "      <td>77.29 ± 63.00</td>\n",
       "    </tr>\n",
       "    <tr>\n",
       "      <th>isic</th>\n",
       "      <td>48.49 ± 60.00</td>\n",
       "    </tr>\n",
       "    <tr>\n",
       "      <th>chest</th>\n",
       "      <td>26.19 ± 44.00</td>\n",
       "    </tr>\n",
       "  </tbody>\n",
       "</table>\n",
       "</div>"
      ],
      "text/plain": [
       "                  05shot\n",
       "mini_test  72.93 ± 64.00\n",
       "crop       90.38 ± 51.00\n",
       "euro       77.29 ± 63.00\n",
       "isic       48.49 ± 60.00\n",
       "chest      26.19 ± 44.00"
      ]
     },
     "metadata": {},
     "output_type": "display_data"
    }
   ],
   "source": [
    "result = pd.DataFrame(None, index=cdfsl, columns=['05shot'])\n",
    "for types in result.columns:\n",
    "    for data in result.index:\n",
    "        path = \"./logs/baseline/output/resnet10_simclr_LS_default/{}/05way_0{}_full_default/mixup/both/test_history_reg.csv\".format(data, types)\n",
    "        test_acc = pd.read_csv(path, index_col='Unnamed: 0')\n",
    "        acc = r\"{:.2f} ± {:.2f}\".format(test_acc.mean()[-1] * 100,\n",
    "                                                 math.floor((1.96 * test_acc.std()[-1] / np.sqrt(600) * 100) * 100))\n",
    "        result.loc[data][types] = acc\n",
    "        wrt = r\"{:.2f}{{\\scriptsize$\\pm$.{}}}\".format(test_acc.mean()[-1] * 100,\n",
    "                                                 math.floor((1.96 * test_acc.std()[-1] / np.sqrt(600) * 100) * 100))\n",
    "        print(wrt, end=\" & \")\n",
    "    print()\n",
    "display(result)"
   ]
  },
  {
   "cell_type": "code",
   "execution_count": 28,
   "id": "a19f3011-603d-4ad0-ab9a-a668544f35cc",
   "metadata": {},
   "outputs": [
    {
     "ename": "FileNotFoundError",
     "evalue": "[Errno 2] No such file or directory: './logs/baseline/output/resnet10_simclr_LS_default/mini_test/05way_001shot_full_default/augmentation/base/test_history_fixed_aug.csv'",
     "output_type": "error",
     "traceback": [
      "\u001b[0;31m\u001b[0m",
      "\u001b[0;31mFileNotFoundError\u001b[0mTraceback (most recent call last)",
      "\u001b[0;32m<ipython-input-28-be1f1d703cf6>\u001b[0m in \u001b[0;36m<module>\u001b[0;34m\u001b[0m\n\u001b[1;32m      3\u001b[0m     \u001b[0;32mfor\u001b[0m \u001b[0mdata\u001b[0m \u001b[0;32min\u001b[0m \u001b[0mresult\u001b[0m\u001b[0;34m.\u001b[0m\u001b[0mindex\u001b[0m\u001b[0;34m:\u001b[0m\u001b[0;34m\u001b[0m\u001b[0;34m\u001b[0m\u001b[0m\n\u001b[1;32m      4\u001b[0m         \u001b[0mpath\u001b[0m \u001b[0;34m=\u001b[0m \u001b[0;34m\"./logs/baseline/output/resnet10_simclr_LS_default/{}/05way_0{}_full_default/augmentation/base/test_history_fixed_aug.csv\"\u001b[0m\u001b[0;34m.\u001b[0m\u001b[0mformat\u001b[0m\u001b[0;34m(\u001b[0m\u001b[0mdata\u001b[0m\u001b[0;34m,\u001b[0m \u001b[0mtypes\u001b[0m\u001b[0;34m)\u001b[0m\u001b[0;34m\u001b[0m\u001b[0;34m\u001b[0m\u001b[0m\n\u001b[0;32m----> 5\u001b[0;31m         \u001b[0mtest_acc\u001b[0m \u001b[0;34m=\u001b[0m \u001b[0mpd\u001b[0m\u001b[0;34m.\u001b[0m\u001b[0mread_csv\u001b[0m\u001b[0;34m(\u001b[0m\u001b[0mpath\u001b[0m\u001b[0;34m,\u001b[0m \u001b[0mindex_col\u001b[0m\u001b[0;34m=\u001b[0m\u001b[0;34m'Unnamed: 0'\u001b[0m\u001b[0;34m)\u001b[0m\u001b[0;34m\u001b[0m\u001b[0;34m\u001b[0m\u001b[0m\n\u001b[0m\u001b[1;32m      6\u001b[0m         acc = r\"{:.2f} ± {:.2f}\".format(test_acc.mean()[-1] * 100,\n\u001b[1;32m      7\u001b[0m                                                  math.floor((1.96 * test_acc.std()[-1] / np.sqrt(600) * 100) * 100))\n",
      "\u001b[0;32m/opt/conda/lib/python3.8/site-packages/pandas/util/_decorators.py\u001b[0m in \u001b[0;36mwrapper\u001b[0;34m(*args, **kwargs)\u001b[0m\n\u001b[1;32m    309\u001b[0m                     \u001b[0mstacklevel\u001b[0m\u001b[0;34m=\u001b[0m\u001b[0mstacklevel\u001b[0m\u001b[0;34m,\u001b[0m\u001b[0;34m\u001b[0m\u001b[0;34m\u001b[0m\u001b[0m\n\u001b[1;32m    310\u001b[0m                 )\n\u001b[0;32m--> 311\u001b[0;31m             \u001b[0;32mreturn\u001b[0m \u001b[0mfunc\u001b[0m\u001b[0;34m(\u001b[0m\u001b[0;34m*\u001b[0m\u001b[0margs\u001b[0m\u001b[0;34m,\u001b[0m \u001b[0;34m**\u001b[0m\u001b[0mkwargs\u001b[0m\u001b[0;34m)\u001b[0m\u001b[0;34m\u001b[0m\u001b[0;34m\u001b[0m\u001b[0m\n\u001b[0m\u001b[1;32m    312\u001b[0m \u001b[0;34m\u001b[0m\u001b[0m\n\u001b[1;32m    313\u001b[0m         \u001b[0;32mreturn\u001b[0m \u001b[0mwrapper\u001b[0m\u001b[0;34m\u001b[0m\u001b[0;34m\u001b[0m\u001b[0m\n",
      "\u001b[0;32m/opt/conda/lib/python3.8/site-packages/pandas/io/parsers/readers.py\u001b[0m in \u001b[0;36mread_csv\u001b[0;34m(filepath_or_buffer, sep, delimiter, header, names, index_col, usecols, squeeze, prefix, mangle_dupe_cols, dtype, engine, converters, true_values, false_values, skipinitialspace, skiprows, skipfooter, nrows, na_values, keep_default_na, na_filter, verbose, skip_blank_lines, parse_dates, infer_datetime_format, keep_date_col, date_parser, dayfirst, cache_dates, iterator, chunksize, compression, thousands, decimal, lineterminator, quotechar, quoting, doublequote, escapechar, comment, encoding, encoding_errors, dialect, error_bad_lines, warn_bad_lines, on_bad_lines, delim_whitespace, low_memory, memory_map, float_precision, storage_options)\u001b[0m\n\u001b[1;32m    584\u001b[0m     \u001b[0mkwds\u001b[0m\u001b[0;34m.\u001b[0m\u001b[0mupdate\u001b[0m\u001b[0;34m(\u001b[0m\u001b[0mkwds_defaults\u001b[0m\u001b[0;34m)\u001b[0m\u001b[0;34m\u001b[0m\u001b[0;34m\u001b[0m\u001b[0m\n\u001b[1;32m    585\u001b[0m \u001b[0;34m\u001b[0m\u001b[0m\n\u001b[0;32m--> 586\u001b[0;31m     \u001b[0;32mreturn\u001b[0m \u001b[0m_read\u001b[0m\u001b[0;34m(\u001b[0m\u001b[0mfilepath_or_buffer\u001b[0m\u001b[0;34m,\u001b[0m \u001b[0mkwds\u001b[0m\u001b[0;34m)\u001b[0m\u001b[0;34m\u001b[0m\u001b[0;34m\u001b[0m\u001b[0m\n\u001b[0m\u001b[1;32m    587\u001b[0m \u001b[0;34m\u001b[0m\u001b[0m\n\u001b[1;32m    588\u001b[0m \u001b[0;34m\u001b[0m\u001b[0m\n",
      "\u001b[0;32m/opt/conda/lib/python3.8/site-packages/pandas/io/parsers/readers.py\u001b[0m in \u001b[0;36m_read\u001b[0;34m(filepath_or_buffer, kwds)\u001b[0m\n\u001b[1;32m    480\u001b[0m \u001b[0;34m\u001b[0m\u001b[0m\n\u001b[1;32m    481\u001b[0m     \u001b[0;31m# Create the parser.\u001b[0m\u001b[0;34m\u001b[0m\u001b[0;34m\u001b[0m\u001b[0;34m\u001b[0m\u001b[0m\n\u001b[0;32m--> 482\u001b[0;31m     \u001b[0mparser\u001b[0m \u001b[0;34m=\u001b[0m \u001b[0mTextFileReader\u001b[0m\u001b[0;34m(\u001b[0m\u001b[0mfilepath_or_buffer\u001b[0m\u001b[0;34m,\u001b[0m \u001b[0;34m**\u001b[0m\u001b[0mkwds\u001b[0m\u001b[0;34m)\u001b[0m\u001b[0;34m\u001b[0m\u001b[0;34m\u001b[0m\u001b[0m\n\u001b[0m\u001b[1;32m    483\u001b[0m \u001b[0;34m\u001b[0m\u001b[0m\n\u001b[1;32m    484\u001b[0m     \u001b[0;32mif\u001b[0m \u001b[0mchunksize\u001b[0m \u001b[0;32mor\u001b[0m \u001b[0miterator\u001b[0m\u001b[0;34m:\u001b[0m\u001b[0;34m\u001b[0m\u001b[0;34m\u001b[0m\u001b[0m\n",
      "\u001b[0;32m/opt/conda/lib/python3.8/site-packages/pandas/io/parsers/readers.py\u001b[0m in \u001b[0;36m__init__\u001b[0;34m(self, f, engine, **kwds)\u001b[0m\n\u001b[1;32m    809\u001b[0m             \u001b[0mself\u001b[0m\u001b[0;34m.\u001b[0m\u001b[0moptions\u001b[0m\u001b[0;34m[\u001b[0m\u001b[0;34m\"has_index_names\"\u001b[0m\u001b[0;34m]\u001b[0m \u001b[0;34m=\u001b[0m \u001b[0mkwds\u001b[0m\u001b[0;34m[\u001b[0m\u001b[0;34m\"has_index_names\"\u001b[0m\u001b[0;34m]\u001b[0m\u001b[0;34m\u001b[0m\u001b[0;34m\u001b[0m\u001b[0m\n\u001b[1;32m    810\u001b[0m \u001b[0;34m\u001b[0m\u001b[0m\n\u001b[0;32m--> 811\u001b[0;31m         \u001b[0mself\u001b[0m\u001b[0;34m.\u001b[0m\u001b[0m_engine\u001b[0m \u001b[0;34m=\u001b[0m \u001b[0mself\u001b[0m\u001b[0;34m.\u001b[0m\u001b[0m_make_engine\u001b[0m\u001b[0;34m(\u001b[0m\u001b[0mself\u001b[0m\u001b[0;34m.\u001b[0m\u001b[0mengine\u001b[0m\u001b[0;34m)\u001b[0m\u001b[0;34m\u001b[0m\u001b[0;34m\u001b[0m\u001b[0m\n\u001b[0m\u001b[1;32m    812\u001b[0m \u001b[0;34m\u001b[0m\u001b[0m\n\u001b[1;32m    813\u001b[0m     \u001b[0;32mdef\u001b[0m \u001b[0mclose\u001b[0m\u001b[0;34m(\u001b[0m\u001b[0mself\u001b[0m\u001b[0;34m)\u001b[0m\u001b[0;34m:\u001b[0m\u001b[0;34m\u001b[0m\u001b[0;34m\u001b[0m\u001b[0m\n",
      "\u001b[0;32m/opt/conda/lib/python3.8/site-packages/pandas/io/parsers/readers.py\u001b[0m in \u001b[0;36m_make_engine\u001b[0;34m(self, engine)\u001b[0m\n\u001b[1;32m   1038\u001b[0m             )\n\u001b[1;32m   1039\u001b[0m         \u001b[0;31m# error: Too many arguments for \"ParserBase\"\u001b[0m\u001b[0;34m\u001b[0m\u001b[0;34m\u001b[0m\u001b[0;34m\u001b[0m\u001b[0m\n\u001b[0;32m-> 1040\u001b[0;31m         \u001b[0;32mreturn\u001b[0m \u001b[0mmapping\u001b[0m\u001b[0;34m[\u001b[0m\u001b[0mengine\u001b[0m\u001b[0;34m]\u001b[0m\u001b[0;34m(\u001b[0m\u001b[0mself\u001b[0m\u001b[0;34m.\u001b[0m\u001b[0mf\u001b[0m\u001b[0;34m,\u001b[0m \u001b[0;34m**\u001b[0m\u001b[0mself\u001b[0m\u001b[0;34m.\u001b[0m\u001b[0moptions\u001b[0m\u001b[0;34m)\u001b[0m  \u001b[0;31m# type: ignore[call-arg]\u001b[0m\u001b[0;34m\u001b[0m\u001b[0;34m\u001b[0m\u001b[0m\n\u001b[0m\u001b[1;32m   1041\u001b[0m \u001b[0;34m\u001b[0m\u001b[0m\n\u001b[1;32m   1042\u001b[0m     \u001b[0;32mdef\u001b[0m \u001b[0m_failover_to_python\u001b[0m\u001b[0;34m(\u001b[0m\u001b[0mself\u001b[0m\u001b[0;34m)\u001b[0m\u001b[0;34m:\u001b[0m\u001b[0;34m\u001b[0m\u001b[0;34m\u001b[0m\u001b[0m\n",
      "\u001b[0;32m/opt/conda/lib/python3.8/site-packages/pandas/io/parsers/c_parser_wrapper.py\u001b[0m in \u001b[0;36m__init__\u001b[0;34m(self, src, **kwds)\u001b[0m\n\u001b[1;32m     49\u001b[0m \u001b[0;34m\u001b[0m\u001b[0m\n\u001b[1;32m     50\u001b[0m         \u001b[0;31m# open handles\u001b[0m\u001b[0;34m\u001b[0m\u001b[0;34m\u001b[0m\u001b[0;34m\u001b[0m\u001b[0m\n\u001b[0;32m---> 51\u001b[0;31m         \u001b[0mself\u001b[0m\u001b[0;34m.\u001b[0m\u001b[0m_open_handles\u001b[0m\u001b[0;34m(\u001b[0m\u001b[0msrc\u001b[0m\u001b[0;34m,\u001b[0m \u001b[0mkwds\u001b[0m\u001b[0;34m)\u001b[0m\u001b[0;34m\u001b[0m\u001b[0;34m\u001b[0m\u001b[0m\n\u001b[0m\u001b[1;32m     52\u001b[0m         \u001b[0;32massert\u001b[0m \u001b[0mself\u001b[0m\u001b[0;34m.\u001b[0m\u001b[0mhandles\u001b[0m \u001b[0;32mis\u001b[0m \u001b[0;32mnot\u001b[0m \u001b[0;32mNone\u001b[0m\u001b[0;34m\u001b[0m\u001b[0;34m\u001b[0m\u001b[0m\n\u001b[1;32m     53\u001b[0m \u001b[0;34m\u001b[0m\u001b[0m\n",
      "\u001b[0;32m/opt/conda/lib/python3.8/site-packages/pandas/io/parsers/base_parser.py\u001b[0m in \u001b[0;36m_open_handles\u001b[0;34m(self, src, kwds)\u001b[0m\n\u001b[1;32m    220\u001b[0m         \u001b[0mLet\u001b[0m \u001b[0mthe\u001b[0m \u001b[0mreaders\u001b[0m \u001b[0mopen\u001b[0m \u001b[0mIOHandles\u001b[0m \u001b[0mafter\u001b[0m \u001b[0mthey\u001b[0m \u001b[0mare\u001b[0m \u001b[0mdone\u001b[0m \u001b[0;32mwith\u001b[0m \u001b[0mtheir\u001b[0m \u001b[0mpotential\u001b[0m \u001b[0mraises\u001b[0m\u001b[0;34m.\u001b[0m\u001b[0;34m\u001b[0m\u001b[0;34m\u001b[0m\u001b[0m\n\u001b[1;32m    221\u001b[0m         \"\"\"\n\u001b[0;32m--> 222\u001b[0;31m         self.handles = get_handle(\n\u001b[0m\u001b[1;32m    223\u001b[0m             \u001b[0msrc\u001b[0m\u001b[0;34m,\u001b[0m\u001b[0;34m\u001b[0m\u001b[0;34m\u001b[0m\u001b[0m\n\u001b[1;32m    224\u001b[0m             \u001b[0;34m\"r\"\u001b[0m\u001b[0;34m,\u001b[0m\u001b[0;34m\u001b[0m\u001b[0;34m\u001b[0m\u001b[0m\n",
      "\u001b[0;32m/opt/conda/lib/python3.8/site-packages/pandas/io/common.py\u001b[0m in \u001b[0;36mget_handle\u001b[0;34m(path_or_buf, mode, encoding, compression, memory_map, is_text, errors, storage_options)\u001b[0m\n\u001b[1;32m    700\u001b[0m         \u001b[0;32mif\u001b[0m \u001b[0mioargs\u001b[0m\u001b[0;34m.\u001b[0m\u001b[0mencoding\u001b[0m \u001b[0;32mand\u001b[0m \u001b[0;34m\"b\"\u001b[0m \u001b[0;32mnot\u001b[0m \u001b[0;32min\u001b[0m \u001b[0mioargs\u001b[0m\u001b[0;34m.\u001b[0m\u001b[0mmode\u001b[0m\u001b[0;34m:\u001b[0m\u001b[0;34m\u001b[0m\u001b[0;34m\u001b[0m\u001b[0m\n\u001b[1;32m    701\u001b[0m             \u001b[0;31m# Encoding\u001b[0m\u001b[0;34m\u001b[0m\u001b[0;34m\u001b[0m\u001b[0;34m\u001b[0m\u001b[0m\n\u001b[0;32m--> 702\u001b[0;31m             handle = open(\n\u001b[0m\u001b[1;32m    703\u001b[0m                 \u001b[0mhandle\u001b[0m\u001b[0;34m,\u001b[0m\u001b[0;34m\u001b[0m\u001b[0;34m\u001b[0m\u001b[0m\n\u001b[1;32m    704\u001b[0m                 \u001b[0mioargs\u001b[0m\u001b[0;34m.\u001b[0m\u001b[0mmode\u001b[0m\u001b[0;34m,\u001b[0m\u001b[0;34m\u001b[0m\u001b[0;34m\u001b[0m\u001b[0m\n",
      "\u001b[0;31mFileNotFoundError\u001b[0m: [Errno 2] No such file or directory: './logs/baseline/output/resnet10_simclr_LS_default/mini_test/05way_001shot_full_default/augmentation/base/test_history_fixed_aug.csv'"
     ]
    }
   ],
   "source": [
    "result = pd.DataFrame(None, index=cdfsl, columns=['01shot', '05shot'])\n",
    "for types in result.columns:\n",
    "    for data in result.index:\n",
    "        path = \"./logs/baseline/output/resnet10_simclr_LS_default/{}/05way_0{}_full_default/augmentation/base/test_history_fixed_aug.csv\".format(data, types)\n",
    "        test_acc = pd.read_csv(path, index_col='Unnamed: 0')\n",
    "        acc = r\"{:.2f} ± {:.2f}\".format(test_acc.mean()[-1] * 100,\n",
    "                                                 math.floor((1.96 * test_acc.std()[-1] / np.sqrt(600) * 100) * 100))\n",
    "        result.loc[data][types] = acc\n",
    "        wrt = r\"{:.2f}{{\\scriptsize$\\pm$.{}}}\".format(test_acc.mean()[-1] * 100,\n",
    "                                                 math.floor((1.96 * test_acc.std()[-1] / np.sqrt(600) * 100) * 100))\n",
    "        print(wrt, end=\" & \")\n",
    "    print()\n",
    "display(result)"
   ]
  },
  {
   "cell_type": "code",
   "execution_count": null,
   "id": "aaea81b1-74d7-4e52-bfe5-063b0d0cf877",
   "metadata": {},
   "outputs": [],
   "source": []
  }
 ],
 "metadata": {
  "kernelspec": {
   "display_name": "PyTorch 1.10 (NGC 21.11/Python 3.8 Conda) on Backend.AI",
   "language": "python",
   "name": "python3"
  },
  "language_info": {
   "codemirror_mode": {
    "name": "ipython",
    "version": 3
   },
   "file_extension": ".py",
   "mimetype": "text/x-python",
   "name": "python",
   "nbconvert_exporter": "python",
   "pygments_lexer": "ipython3",
   "version": "3.8.12"
  }
 },
 "nbformat": 4,
 "nbformat_minor": 5
}
