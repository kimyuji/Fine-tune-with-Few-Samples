{
 "cells": [
  {
   "cell_type": "code",
   "execution_count": 2,
   "id": "be340b0e-c6c8-4ea8-8ecf-0735a4ebae01",
   "metadata": {},
   "outputs": [
    {
     "name": "stdout",
     "output_type": "stream",
     "text": [
      "['sans-serif']\n",
      "23.0\n",
      "/home/yujin/anaconda3/lib/python3.9/site-packages/matplotlib/mpl-data/matplotlibrc\n"
     ]
    }
   ],
   "source": [
    "import numpy as np\n",
    "import pandas as pd\n",
    "import matplotlib.pyplot as plt\n",
    "import seaborn as sns\n",
    "import pickle\n",
    "import matplotlib.font_manager as fm\n",
    "import matplotlib as mpl\n",
    "\n",
    "plt.rcParams[\"figure.figsize\"] = (14,4)\n",
    "plt.rcParams['lines.linewidth'] = 2\n",
    "plt.rcParams['font.size'] = 23\n",
    "datas = ['mini_test', 'crop','euro', 'isic', 'chest']\n",
    "backbone = ['18', '34', '50', '101', '152']\n",
    "print(mpl.rcParams['font.family'])\n",
    "print(mpl.rcParams['font.size'])\n",
    "print(mpl.matplotlib_fname())"
   ]
  },
  {
   "cell_type": "markdown",
   "id": "5f7888fe-7c6b-4984-80b7-b21a9fdd3258",
   "metadata": {},
   "source": [
    "### Baseline"
   ]
  },
  {
   "cell_type": "code",
   "execution_count": 23,
   "id": "f0b33f04-ee45-4c32-b922-6130166cdb63",
   "metadata": {},
   "outputs": [
    {
     "data": {
      "text/html": [
       "<div>\n",
       "<style scoped>\n",
       "    .dataframe tbody tr th:only-of-type {\n",
       "        vertical-align: middle;\n",
       "    }\n",
       "\n",
       "    .dataframe tbody tr th {\n",
       "        vertical-align: top;\n",
       "    }\n",
       "\n",
       "    .dataframe thead th {\n",
       "        text-align: right;\n",
       "    }\n",
       "</style>\n",
       "<table border=\"1\" class=\"dataframe\">\n",
       "  <thead>\n",
       "    <tr style=\"text-align: right;\">\n",
       "      <th></th>\n",
       "      <th>1shot</th>\n",
       "      <th>5shot</th>\n",
       "    </tr>\n",
       "  </thead>\n",
       "  <tbody>\n",
       "    <tr>\n",
       "      <th>mini_test</th>\n",
       "      <td>56.47 ± 0.80</td>\n",
       "      <td>85.33 ± 0.30</td>\n",
       "    </tr>\n",
       "    <tr>\n",
       "      <th>crop</th>\n",
       "      <td>73.12 ± 0.88</td>\n",
       "      <td>91.50 ± 0.49</td>\n",
       "    </tr>\n",
       "    <tr>\n",
       "      <th>euro</th>\n",
       "      <td>64.72 ± 0.88</td>\n",
       "      <td>84.08 ± 0.60</td>\n",
       "    </tr>\n",
       "    <tr>\n",
       "      <th>isic</th>\n",
       "      <td>29.39 ± 0.53</td>\n",
       "      <td>40.39 ± 0.55</td>\n",
       "    </tr>\n",
       "    <tr>\n",
       "      <th>chest</th>\n",
       "      <td>21.45 ± 0.31</td>\n",
       "      <td>26.75 ± 0.43</td>\n",
       "    </tr>\n",
       "  </tbody>\n",
       "</table>\n",
       "</div>"
      ],
      "text/plain": [
       "                  1shot         5shot\n",
       "mini_test  56.47 ± 0.80  85.33 ± 0.30\n",
       "crop       73.12 ± 0.88  91.50 ± 0.49\n",
       "euro       64.72 ± 0.88  84.08 ± 0.60\n",
       "isic       29.39 ± 0.53  40.39 ± 0.55\n",
       "chest      21.45 ± 0.31  26.75 ± 0.43"
      ]
     },
     "metadata": {},
     "output_type": "display_data"
    }
   ],
   "source": [
    "result = pd.DataFrame(None, index=datas, columns=['1shot', '5shot'])\n",
    "for data in result.index:\n",
    "    for bs in result.columns:\n",
    "        path = \"./logs/baseline/output/resnet10_simclr_LS_default/{}/05way_00{}_head_default/\".format(data, bs)\n",
    "        test_acc = pd.read_csv(path+\"test_history.csv\", index_col='Unnamed: 0')\n",
    "        acc = '{:.2f} ± {:.2f}'.format(test_acc.mean()[-1] * 100,\n",
    "                                         1.96 * test_acc.std()[-1] / np.sqrt(600) * 100)\n",
    "        result.loc[data][bs] = acc\n",
    "display(result)"
   ]
  },
  {
   "cell_type": "code",
   "execution_count": 30,
   "id": "fa6f179e-109a-4f98-8ac6-c8db10f6d736",
   "metadata": {},
   "outputs": [
    {
     "data": {
      "text/html": [
       "<div>\n",
       "<style scoped>\n",
       "    .dataframe tbody tr th:only-of-type {\n",
       "        vertical-align: middle;\n",
       "    }\n",
       "\n",
       "    .dataframe tbody tr th {\n",
       "        vertical-align: top;\n",
       "    }\n",
       "\n",
       "    .dataframe thead th {\n",
       "        text-align: right;\n",
       "    }\n",
       "</style>\n",
       "<table border=\"1\" class=\"dataframe\">\n",
       "  <thead>\n",
       "    <tr style=\"text-align: right;\">\n",
       "      <th></th>\n",
       "      <th>1shot</th>\n",
       "      <th>5shot</th>\n",
       "    </tr>\n",
       "  </thead>\n",
       "  <tbody>\n",
       "    <tr>\n",
       "      <th>mini_test</th>\n",
       "      <td>55.53 ± 0.82</td>\n",
       "      <td>76.73 ± 0.64</td>\n",
       "    </tr>\n",
       "    <tr>\n",
       "      <th>crop</th>\n",
       "      <td>70.93 ± 0.88</td>\n",
       "      <td>91.12 ± 0.50</td>\n",
       "    </tr>\n",
       "    <tr>\n",
       "      <th>euro</th>\n",
       "      <td>62.68 ± 0.84</td>\n",
       "      <td>83.58 ± 0.60</td>\n",
       "    </tr>\n",
       "    <tr>\n",
       "      <th>isic</th>\n",
       "      <td>29.54 ± 0.55</td>\n",
       "      <td>41.00 ± 0.57</td>\n",
       "    </tr>\n",
       "    <tr>\n",
       "      <th>chest</th>\n",
       "      <td>22.40 ± 0.40</td>\n",
       "      <td>26.21 ± 0.41</td>\n",
       "    </tr>\n",
       "  </tbody>\n",
       "</table>\n",
       "</div>"
      ],
      "text/plain": [
       "                  1shot         5shot\n",
       "mini_test  55.53 ± 0.82  76.73 ± 0.64\n",
       "crop       70.93 ± 0.88  91.12 ± 0.50\n",
       "euro       62.68 ± 0.84  83.58 ± 0.60\n",
       "isic       29.54 ± 0.55  41.00 ± 0.57\n",
       "chest      22.40 ± 0.40  26.21 ± 0.41"
      ]
     },
     "metadata": {},
     "output_type": "display_data"
    }
   ],
   "source": [
    "result = pd.DataFrame(None, index=datas, columns=['1shot', '5shot'])\n",
    "for data in result.index:\n",
    "    for bs in result.columns:\n",
    "        path = \"./logs/baseline/output/resnet10_simclr_LS_default/{}/05way_00{}_head_default/\".format(data, bs)\n",
    "        test_acc = pd.read_csv(path+\"test_history_mixup_v2_reverse.csv\", index_col='Unnamed: 0')\n",
    "        acc = '{:.2f} ± {:.2f}'.format(test_acc.mean()[-1] * 100,\n",
    "                                         1.96 * test_acc.std()[-1] / np.sqrt(600) * 100)\n",
    "        result.loc[data][bs] = acc\n",
    "display(result)"
   ]
  },
  {
   "cell_type": "markdown",
   "id": "c6e1f488-fbcb-440a-b7ee-081f9b3e871f",
   "metadata": {},
   "source": [
    "### Check augmentation"
   ]
  },
  {
   "cell_type": "code",
   "execution_count": 5,
   "id": "49c3713e-bd26-497e-afbc-5985e138e205",
   "metadata": {},
   "outputs": [],
   "source": [
    "with open('./logs/baseline/output/resnet10_simclr_LS_default/mini_test/05way_005shot_head_default/cutmix.pkl', 'rb') as f:\n",
    "    x_support = pickle.load(f)  # 한 줄씩 읽어옴"
   ]
  },
  {
   "cell_type": "code",
   "execution_count": null,
   "id": "e2daa528-c7db-417e-805e-ccaa63645ee7",
   "metadata": {},
   "outputs": [],
   "source": [
    "for idx in range(25):\n",
    "    plt.imshow(x_support[idx].cpu().permute(1, 2, 0))\n",
    "    plt.show()"
   ]
  },
  {
   "cell_type": "code",
   "execution_count": 86,
   "id": "c0f78ecb-9012-47ec-a6da-474cb38274b1",
   "metadata": {},
   "outputs": [
    {
     "data": {
      "text/html": [
       "<div>\n",
       "<style scoped>\n",
       "    .dataframe tbody tr th:only-of-type {\n",
       "        vertical-align: middle;\n",
       "    }\n",
       "\n",
       "    .dataframe tbody tr th {\n",
       "        vertical-align: top;\n",
       "    }\n",
       "\n",
       "    .dataframe thead th {\n",
       "        text-align: right;\n",
       "    }\n",
       "</style>\n",
       "<table border=\"1\" class=\"dataframe\">\n",
       "  <thead>\n",
       "    <tr style=\"text-align: right;\">\n",
       "      <th></th>\n",
       "      <th>1shot</th>\n",
       "      <th>5shot</th>\n",
       "    </tr>\n",
       "  </thead>\n",
       "  <tbody>\n",
       "    <tr>\n",
       "      <th>mini_test</th>\n",
       "      <td>51.45 ± 0.80</td>\n",
       "      <td>75.54 ± 0.60</td>\n",
       "    </tr>\n",
       "    <tr>\n",
       "      <th>crop</th>\n",
       "      <td>59.84 ± 0.99</td>\n",
       "      <td>87.33 ± 0.59</td>\n",
       "    </tr>\n",
       "    <tr>\n",
       "      <th>euro</th>\n",
       "      <td>54.95 ± 0.82</td>\n",
       "      <td>78.80 ± 0.59</td>\n",
       "    </tr>\n",
       "    <tr>\n",
       "      <th>isic</th>\n",
       "      <td>30.11 ± 0.53</td>\n",
       "      <td>43.28 ± 0.59</td>\n",
       "    </tr>\n",
       "    <tr>\n",
       "      <th>chest</th>\n",
       "      <td>22.00 ± 0.34</td>\n",
       "      <td>25.91 ± 0.41</td>\n",
       "    </tr>\n",
       "  </tbody>\n",
       "</table>\n",
       "</div>"
      ],
      "text/plain": [
       "                  1shot         5shot\n",
       "mini_test  51.45 ± 0.80  75.54 ± 0.60\n",
       "crop       59.84 ± 0.99  87.33 ± 0.59\n",
       "euro       54.95 ± 0.82  78.80 ± 0.59\n",
       "isic       30.11 ± 0.53  43.28 ± 0.59\n",
       "chest      22.00 ± 0.34  25.91 ± 0.41"
      ]
     },
     "metadata": {},
     "output_type": "display_data"
    }
   ],
   "source": [
    "result = pd.DataFrame(None, index=datas, columns=['1shot', '5shot'])\n",
    "for data in result.index:\n",
    "    for bs in result.columns:\n",
    "        path = \"./logs/baseline/output/resnet10_simclr_LS_default/{}/05way_00{}_head_default/\".format(data, bs)\n",
    "        test_acc = pd.read_csv(path+\"test_history_strong_aug.csv\", index_col='Unnamed: 0')\n",
    "        acc = '{:.2f} ± {:.2f}'.format(test_acc.mean()[-1] * 100,\n",
    "                                         1.96 * test_acc.std()[-1] / np.sqrt(600) * 100)\n",
    "        result.loc[data][bs] = acc\n",
    "display(result)"
   ]
  },
  {
   "cell_type": "code",
   "execution_count": null,
   "id": "451aedeb-47c4-4f92-bcd8-4cb706070985",
   "metadata": {},
   "outputs": [],
   "source": []
  }
 ],
 "metadata": {
  "kernelspec": {
   "display_name": "Python 3 (ipykernel)",
   "language": "python",
   "name": "python3"
  },
  "language_info": {
   "codemirror_mode": {
    "name": "ipython",
    "version": 3
   },
   "file_extension": ".py",
   "mimetype": "text/x-python",
   "name": "python",
   "nbconvert_exporter": "python",
   "pygments_lexer": "ipython3",
   "version": "3.9.7"
  }
 },
 "nbformat": 4,
 "nbformat_minor": 5
}
