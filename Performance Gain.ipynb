{
 "cells": [
  {
   "cell_type": "code",
   "execution_count": 2,
   "id": "29e50c73-d8b6-4ceb-a92d-6a626a5a6d0b",
   "metadata": {},
   "outputs": [
    {
     "name": "stdout",
     "output_type": "stream",
     "text": [
      "['sans-serif']\n",
      "23.0\n",
      "/home/yujin/anaconda3/lib/python3.9/site-packages/matplotlib/mpl-data/matplotlibrc\n"
     ]
    }
   ],
   "source": [
    "import numpy as np\n",
    "import pandas as pd\n",
    "import matplotlib.pyplot as plt\n",
    "import seaborn as sns\n",
    "import pickle\n",
    "import matplotlib.font_manager as fm\n",
    "import matplotlib as mpl\n",
    "\n",
    "plt.rcParams[\"figure.figsize\"] = (14,4)\n",
    "plt.rcParams['lines.linewidth'] = 2\n",
    "plt.rcParams['font.size'] = 23\n",
    "datas = ['mini_test', 'crop','euro', 'isic', 'chest']\n",
    "backbone = ['18', '34', '50', '101', '152']\n",
    "print(mpl.rcParams['font.family'])\n",
    "print(mpl.rcParams['font.size'])\n",
    "print(mpl.matplotlib_fname())"
   ]
  },
  {
   "cell_type": "code",
   "execution_count": null,
   "id": "8c9af8e3-9481-4ca0-b782-82b2f8e34de6",
   "metadata": {},
   "outputs": [],
   "source": []
  },
  {
   "cell_type": "code",
   "execution_count": 12,
   "id": "0f70c76b-6d0d-4307-bd52-95ce98354cd1",
   "metadata": {},
   "outputs": [
    {
     "data": {
      "text/html": [
       "<div>\n",
       "<style scoped>\n",
       "    .dataframe tbody tr th:only-of-type {\n",
       "        vertical-align: middle;\n",
       "    }\n",
       "\n",
       "    .dataframe tbody tr th {\n",
       "        vertical-align: top;\n",
       "    }\n",
       "\n",
       "    .dataframe thead th {\n",
       "        text-align: right;\n",
       "    }\n",
       "</style>\n",
       "<table border=\"1\" class=\"dataframe\">\n",
       "  <thead>\n",
       "    <tr style=\"text-align: right;\">\n",
       "      <th></th>\n",
       "      <th>1shot</th>\n",
       "      <th>5shot</th>\n",
       "    </tr>\n",
       "  </thead>\n",
       "  <tbody>\n",
       "    <tr>\n",
       "      <th>mini_test</th>\n",
       "      <td>56.47 ± 0.80 | 59.62 ± 0.76 | 3.15%</td>\n",
       "      <td>85.33 ± 0.30 | 86.00 ± 0.23 | 0.67%</td>\n",
       "    </tr>\n",
       "    <tr>\n",
       "      <th>crop</th>\n",
       "      <td>73.12 ± 0.88 | 77.51 ± 0.81 | 4.39%</td>\n",
       "      <td>91.50 ± 0.49 | 93.33 ± 0.43 | 1.83%</td>\n",
       "    </tr>\n",
       "    <tr>\n",
       "      <th>euro</th>\n",
       "      <td>64.72 ± 0.88 | 69.10 ± 0.84 | 4.38%</td>\n",
       "      <td>84.08 ± 0.60 | 86.47 ± 0.56 | 2.39%</td>\n",
       "    </tr>\n",
       "    <tr>\n",
       "      <th>isic</th>\n",
       "      <td>29.39 ± 0.53 | 34.69 ± 0.48 | 5.30%</td>\n",
       "      <td>40.39 ± 0.55 | 45.01 ± 0.50 | 4.63%</td>\n",
       "    </tr>\n",
       "    <tr>\n",
       "      <th>chest</th>\n",
       "      <td>21.45 ± 0.31 | 27.42 ± 0.26 | 5.97%</td>\n",
       "      <td>26.75 ± 0.43 | 32.56 ± 0.36 | 5.81%</td>\n",
       "    </tr>\n",
       "  </tbody>\n",
       "</table>\n",
       "</div>"
      ],
      "text/plain": [
       "                                         1shot  \\\n",
       "mini_test  56.47 ± 0.80 | 59.62 ± 0.76 | 3.15%   \n",
       "crop       73.12 ± 0.88 | 77.51 ± 0.81 | 4.39%   \n",
       "euro       64.72 ± 0.88 | 69.10 ± 0.84 | 4.38%   \n",
       "isic       29.39 ± 0.53 | 34.69 ± 0.48 | 5.30%   \n",
       "chest      21.45 ± 0.31 | 27.42 ± 0.26 | 5.97%   \n",
       "\n",
       "                                         5shot  \n",
       "mini_test  85.33 ± 0.30 | 86.00 ± 0.23 | 0.67%  \n",
       "crop       91.50 ± 0.49 | 93.33 ± 0.43 | 1.83%  \n",
       "euro       84.08 ± 0.60 | 86.47 ± 0.56 | 2.39%  \n",
       "isic       40.39 ± 0.55 | 45.01 ± 0.50 | 4.63%  \n",
       "chest      26.75 ± 0.43 | 32.56 ± 0.36 | 5.81%  "
      ]
     },
     "metadata": {},
     "output_type": "display_data"
    }
   ],
   "source": [
    "result = pd.DataFrame(None, index=datas, columns=['1shot', '5shot'])\n",
    "for data in result.index:\n",
    "    for bs in result.columns:\n",
    "        path = \"./logs/baseline/output/resnet10_simclr_LS_default/{}/05way_00{}_head_default/\".format(data, bs)\n",
    "        test_acc = pd.read_csv(path+\"test_history.csv\", index_col='Unnamed: 0')\n",
    "        last_acc = test_acc.mean()[-1] * 100\n",
    "        last_std = 1.96 * test_acc.std()[-1] / np.sqrt(600) * 100\n",
    "        best_acc = test_acc.max(axis=1).mean() * 100\n",
    "        best_std = 1.96 * test_acc.max(axis=1).std() / np.sqrt(600) * 100\n",
    "        epg = best_acc - last_acc\n",
    "        fmt = \"{:.2f} ± {:.2f} | {:.2f} ± {:.2f} | {:.2f}%\".format(last_acc, last_std, best_acc, best_std, epg)\n",
    "        result.loc[data][bs] = fmt\n",
    "display(result)"
   ]
  },
  {
   "cell_type": "code",
   "execution_count": null,
   "id": "fd9662d5-98db-4870-8443-99cfb29134cc",
   "metadata": {},
   "outputs": [],
   "source": []
  }
 ],
 "metadata": {
  "kernelspec": {
   "display_name": "Python 3 (ipykernel)",
   "language": "python",
   "name": "python3"
  },
  "language_info": {
   "codemirror_mode": {
    "name": "ipython",
    "version": 3
   },
   "file_extension": ".py",
   "mimetype": "text/x-python",
   "name": "python",
   "nbconvert_exporter": "python",
   "pygments_lexer": "ipython3",
   "version": "3.9.7"
  }
 },
 "nbformat": 4,
 "nbformat_minor": 5
}
