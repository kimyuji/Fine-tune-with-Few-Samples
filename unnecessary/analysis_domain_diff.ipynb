{
 "cells": [
  {
   "cell_type": "code",
   "execution_count": 2,
   "id": "966b94bd-bd95-4b90-b023-50f9ef849aad",
   "metadata": {},
   "outputs": [],
   "source": [
    "from __future__ import absolute_import\n",
    "from __future__ import division\n",
    "from __future__ import print_function\n",
    "\n",
    "%matplotlib inline\n",
    "from matplotlib import pyplot as plt\n",
    "import numpy as np\n",
    "import os\n",
    "import sys\n",
    "import time\n",
    "from sklearn.metrics.pairwise import euclidean_distances\n",
    "import pyemd"
   ]
  },
  {
   "cell_type": "markdown",
   "id": "a9794358-359f-4963-ad10-36b0c0ab1f84",
   "metadata": {
    "tags": []
   },
   "source": [
    "- Feature extraction on all datasets from a ResNet-101 pre-trained on JFT.\n",
    "- All features are pre-extracted in this example.\n",
    "- Notice that all features are extracted in the training set of each dataset."
   ]
  },
  {
   "cell_type": "code",
   "execution_count": 54,
   "id": "ff8bbdf7-3819-43ef-94a1-c82c60a1163e",
   "metadata": {},
   "outputs": [
    {
     "name": "stdout",
     "output_type": "stream",
     "text": [
      "Original feature shape: (38400, 1000)\n",
      "Number of classes: 64\n",
      "Feature per class shape: (64, 1000)\n"
     ]
    }
   ],
   "source": [
    "# In this example on CUB-200, we demonstrate how to calculate feature and weight for each class.\n",
    "feature_dir = './feature/'\n",
    "dataset = 'miniImageNet'\n",
    "\n",
    "# Load extracted features on CUB-200.\n",
    "feature = np.load(feature_dir + dataset + '_feature.npy')\n",
    "label = np.load(feature_dir + dataset + '_label.npy')\n",
    "\n",
    "# CUB-200 training set contains 5994 images from 200 classes, each image is \n",
    "# represented by a 2048-dimensional feature from the pre-trained ResNet-101.\n",
    "print('Original feature shape: {}'.format(feature.shape))\n",
    "print('Number of classes: %d' % (len(np.unique(label))))\n",
    "sorted_label = sorted(list(set(label))) # label                                                    list\n",
    "\n",
    "# class feature : averaged features among all images of the class.\n",
    "# f_{i,j}\n",
    "feature_per_class = np.zeros((len(sorted_label), 1000), dtype=np.float32)\n",
    "\n",
    "# class weight : the number of images of the class.\n",
    "weight = np.zeros((len(sorted_label), ), dtype=np.float32)\n",
    "\n",
    "counter = 0\n",
    "for i in sorted_label:\n",
    "    idx = [(l==i) for l in label]\n",
    "    feature_per_class[counter, :] = np.mean(feature[idx, :], axis=0)\n",
    "    weight[counter] = np.sum(idx)\n",
    "    counter += 1\n",
    "\n",
    "# 우리는 (class수, 512)\n",
    "print('Feature per class shape: {}'.format(feature_per_class.shape))\n",
    "\n",
    "np.save(feature_dir + dataset + '.npy', feature_per_class)\n",
    "np.save(feature_dir + dataset + '_weight.npy', weight)"
   ]
  },
  {
   "cell_type": "markdown",
   "id": "3d727e0e-2b18-4989-81a5-10ce04f8f439",
   "metadata": {},
   "source": [
    "Calculate feature per class and weight for all datasets."
   ]
  },
  {
   "cell_type": "code",
   "execution_count": 53,
   "id": "df49e4a8-59c3-48d5-9b9e-3643c03cdd2d",
   "metadata": {},
   "outputs": [
    {
     "name": "stdout",
     "output_type": "stream",
     "text": [
      "miniImageNet --> miniImageNet_test\n",
      "Domain Distance(EMD): 0.954    Domain Similarity: 0.991\n",
      "\n",
      "miniImageNet --> CropDisease\n",
      "Domain Distance(EMD): 1.806    Domain Similarity: 0.982\n",
      "\n",
      "miniImageNet --> EuroSAT\n",
      "Domain Distance(EMD): 1.353    Domain Similarity: 0.987\n",
      "\n",
      "miniImageNet --> ISIC\n",
      "Domain Distance(EMD): 1.811    Domain Similarity: 0.982\n",
      "\n",
      "miniImageNet --> ChestX\n",
      "Domain Distance(EMD): 1.473    Domain Similarity: 0.985\n",
      "\n",
      "Elapsed time: 0.028s\n"
     ]
    }
   ],
   "source": [
    "# Calculate domain similarity by Earth Mover's Distance (EMD).\n",
    "\n",
    "# Set minimum number of images per class for computational efficiency.\n",
    "# Classes in source domain with less than min_num_imgs images will be ignored.\n",
    "min_num_imgs = 200\n",
    "\n",
    "# Gamma for domain similarity: exp(-gamma x EMD)\n",
    "gamma = 0.01\n",
    "\n",
    "# Three source domain datasets: \n",
    "# ImageNet (ILSVRC 2012) training set,\n",
    "# iNaturalist 2017 training set (original training + 90% validation), \n",
    "# ImageNet + iNaturalist training set.\n",
    "source_domain = ['miniImageNet']\n",
    "\n",
    "# Seven target domain datasets (all of them are from the training set):\n",
    "# CUB-200-2011 Bird, Oxford Flower 102, Stanford Car, Stanford Dog, \n",
    "# FGVC-Aircraft, NABirds, Food 101\n",
    "target_domain = ['miniImageNet_test', 'CropDisease', 'EuroSAT', 'ISIC', 'ChestX']\n",
    "\n",
    "tic = time.time()\n",
    "for sd in source_domain:\n",
    "    for td in target_domain:\n",
    "        print('%s --> %s' % (sd, td))\n",
    "        f_s = np.load(feature_dir + sd + '.npy') # source feature\n",
    "        f_t = np.load(feature_dir + td + '.npy') # target feature\n",
    "        w_s = np.load(feature_dir + sd + '_weight.npy') # 각 class img 개수\n",
    "        w_t = np.load(feature_dir + td + '_weight.npy') # 각 class img 개수\n",
    "\n",
    "        # Remove source domain classes with number of images < 'min_num_imgs'.\n",
    "        idx = [i for i in range(len(w_s)) if w_s[i] >= min_num_imgs] # 200보다 이미지가 더 많은 클래스만 (64)\n",
    "        f_s = f_s[idx, :]\n",
    "        w_s = w_s[idx]\n",
    "\n",
    "        # Make sure two histograms have the same length and distance matrix is square.\n",
    "        data = np.float64(np.append(f_s, f_t, axis=0)) # source, target feature 합친거\n",
    "        w_1 = np.zeros((len(w_s) + len(w_t),), np.float64)  # source class 64 + target class 7\n",
    "        w_2 = np.zeros((len(w_s) + len(w_t),), np.float64)\n",
    "        \n",
    "        w_1[:len(w_s)] = w_s / np.sum(w_s) # g(s) normalized weight, 첫 64만, 65부턴 0\n",
    "        w_2[len(w_s):] = w_t / np.sum(w_t) # g(t) 65부터만, \n",
    "        \n",
    "        # calculate distance d_i,j\n",
    "        D = euclidean_distances(data, data)\n",
    "\n",
    "        emd = pyemd.emd(np.float64(w_1), np.float64(w_2), np.float64(D))  # histogram 1, 2, distance matrix\n",
    "        # EMD : 한 histogram에서 다른 histogram으로 이동하는데 필요한 work \n",
    "        \n",
    "        print('Domain Distance(EMD): %.3f    Domain Similarity: %.3f\\n' % (emd, np.exp(-gamma*emd)))\n",
    "print('Elapsed time: %.3fs' % (time.time() - tic))"
   ]
  },
  {
   "cell_type": "markdown",
   "id": "e0096ba9-bd1d-4fa6-9633-a64f93b54f22",
   "metadata": {},
   "source": [
    "실화?"
   ]
  },
  {
   "cell_type": "code",
   "execution_count": 51,
   "id": "95365e4c-ec43-4b9c-bec5-5bcc7993a006",
   "metadata": {},
   "outputs": [
    {
     "name": "stdout",
     "output_type": "stream",
     "text": [
      "miniImageNet : (64, 512)\n",
      "miniImageNet_test : (20, 1000)\n",
      "CropDisease : (38, 1000)\n",
      "EuroSAT : (10, 1000)\n",
      "ISIC : (7, 1000)\n",
      "ChestX : (7, 1000)\n"
     ]
    }
   ],
   "source": [
    "datas =['miniImageNet', 'miniImageNet_test', 'CropDisease', 'EuroSAT', 'ISIC', 'ChestX']\n",
    "\n",
    "for data in datas:\n",
    "    npy = np.load(feature_dir + data + '.npy')\n",
    "    print(data,\":\", npy.shape)"
   ]
  },
  {
   "cell_type": "markdown",
   "id": "c9dcf4a3-0751-4e68-92c6-cce354c32faf",
   "metadata": {},
   "source": [
    "- mini-imagenet all ok\n",
    "- crop\n",
    "    - 불가 2, 7, 14 17  22 23 27\n",
    "    - good 3  4 5 8 15 16 24 28 30\n",
    "- euro\n",
    "    - all ok\n",
    "- isic \n",
    "    - 불가 3 5 6  \n",
    "- chest\n",
    "    - all ok"
   ]
  }
 ],
 "metadata": {
  "kernelspec": {
   "display_name": "Python 3 (ipykernel)",
   "language": "python",
   "name": "python3"
  },
  "language_info": {
   "codemirror_mode": {
    "name": "ipython",
    "version": 3
   },
   "file_extension": ".py",
   "mimetype": "text/x-python",
   "name": "python",
   "nbconvert_exporter": "python",
   "pygments_lexer": "ipython3",
   "version": "3.9.11"
  }
 },
 "nbformat": 4,
 "nbformat_minor": 5
}
